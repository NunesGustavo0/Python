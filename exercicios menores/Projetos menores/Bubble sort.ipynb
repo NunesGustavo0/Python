{
 "cells": [
  {
   "cell_type": "markdown",
   "id": "23833c29-1472-446c-80cf-24cb579a73b5",
   "metadata": {},
   "source": [
    "# Bubble sort"
   ]
  },
  {
   "cell_type": "code",
   "execution_count": 41,
   "id": "4507ba0c-2ac1-4474-92e8-1128cef1c7bc",
   "metadata": {},
   "outputs": [
    {
     "name": "stdout",
     "output_type": "stream",
     "text": [
      "Algoritmo do Bubble sort em python\n",
      "lista desordenada:  [23, 56, 12, 78, 34, 89, 45, 67, 32, 98, 14, 76, 54, 43, 21, 65]\n",
      "Lista ordenada:  [12, 14, 21, 23, 32, 34, 43, 45, 54, 56, 65, 67, 76, 78, 89, 98]\n"
     ]
    }
   ],
   "source": [
    "print(\"Algoritmo do Bubble sort em python\")\n",
    "\n",
    "list1 = [23, 56, 12, 78, 34, 89, 45, 67, 32, 98,\n",
    "         14, 76, 54, 43, 21, 65]\n",
    "list2 = list1\n",
    "\n",
    "def bubbleSort(arr):\n",
    "    n = len(arr)\n",
    "\n",
    "    for i in range(n):\n",
    "\n",
    "            for j in range(n-1):\n",
    "                if(arr[j] > arr[j+1]):\n",
    "                    arr[j], arr[j+1]= arr[j+1], arr[j]\n",
    "    return arr\n",
    "\n",
    "print(\"lista desordenada: \", list1)\n",
    "print(\"Lista ordenada: \", bubbleSort(list2))"
   ]
  },
  {
   "cell_type": "code",
   "execution_count": null,
   "id": "46ce3832-fa7d-42cc-b681-e3d533117940",
   "metadata": {},
   "outputs": [],
   "source": []
  }
 ],
 "metadata": {
  "kernelspec": {
   "display_name": "Python 3 (ipykernel)",
   "language": "python",
   "name": "python3"
  },
  "language_info": {
   "codemirror_mode": {
    "name": "ipython",
    "version": 3
   },
   "file_extension": ".py",
   "mimetype": "text/x-python",
   "name": "python",
   "nbconvert_exporter": "python",
   "pygments_lexer": "ipython3",
   "version": "3.12.7"
  }
 },
 "nbformat": 4,
 "nbformat_minor": 5
}
