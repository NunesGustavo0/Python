{
 "cells": [
  {
   "cell_type": "markdown",
   "id": "a4b5deba-1cf9-48cb-9fd7-a9ce4ef2a6d0",
   "metadata": {},
   "source": [
    "# Calcular Area"
   ]
  },
  {
   "cell_type": "code",
   "execution_count": 15,
   "id": "c1bd4d2b-3f47-491e-9846-d396c0986a92",
   "metadata": {},
   "outputs": [
    {
     "name": "stdout",
     "output_type": "stream",
     "text": [
      "Bem-vindo ao calculador de área de paralelogramo\n"
     ]
    },
    {
     "name": "stdin",
     "output_type": "stream",
     "text": [
      "Insira o valor da base:  45\n",
      "Insira o valor da altura:  23\n"
     ]
    },
    {
     "name": "stdout",
     "output_type": "stream",
     "text": [
      "Área:  1035.0\n"
     ]
    }
   ],
   "source": [
    "print(\"Bem-vindo ao calculador de área de paralelogramo\")\n",
    "\n",
    "base = float(input(\"Insira o valor da base: \"))\n",
    "altura = float(input(\"Insira o valor da altura: \"))\n",
    "\n",
    "area = base * altura\n",
    "\n",
    "print(\"Área: \", area)"
   ]
  },
  {
   "cell_type": "markdown",
   "id": "0e79a97e-cf28-486f-b304-5f76a7ae0add",
   "metadata": {},
   "source": [
    "# Calculadora"
   ]
  },
  {
   "cell_type": "code",
   "execution_count": 27,
   "id": "dc8df465-04af-472a-8d86-07a9a040503b",
   "metadata": {},
   "outputs": [
    {
     "name": "stdout",
     "output_type": "stream",
     "text": [
      "Bem-vindo a Calculadora\n"
     ]
    },
    {
     "name": "stdin",
     "output_type": "stream",
     "text": [
      "Insira o primeiro número:  56\n",
      "Insira o segundo número 78\n",
      "Qual operação deseja realizar? (+, -, *, /) l\n"
     ]
    },
    {
     "name": "stdout",
     "output_type": "stream",
     "text": [
      "caracter inválido!\n"
     ]
    }
   ],
   "source": [
    "print(\"Bem-vindo a Calculadora\")\n",
    "\n",
    "n1 = float(input(\"Insira o primeiro número: \"))\n",
    "n2 = float(input(\"Insira o segundo número\"))\n",
    "escolha = input(\"Qual operação deseja realizar? (+, -, *, /)\")\n",
    "\n",
    "def calculadora (n1, n2, escolha):\n",
    "    match escolha:\n",
    "        case \"+\":\n",
    "            return n1 + n2\n",
    "        case \"-\":\n",
    "            return n1 - n2\n",
    "        case \"*\":\n",
    "            return n1 * n2\n",
    "        case \"/\":\n",
    "            return n1 / n2\n",
    "        case _:\n",
    "            print(\"caracter inválido!\")\n",
    "\n",
    "calculadora(n1, n2, escolha)"
   ]
  },
  {
   "cell_type": "markdown",
   "id": "23833c29-1472-446c-80cf-24cb579a73b5",
   "metadata": {},
   "source": [
    "# Bubble sort"
   ]
  },
  {
   "cell_type": "code",
   "execution_count": 41,
   "id": "4507ba0c-2ac1-4474-92e8-1128cef1c7bc",
   "metadata": {},
   "outputs": [
    {
     "name": "stdout",
     "output_type": "stream",
     "text": [
      "Algoritmo do Bubble sort em python\n",
      "lista desordenada:  [23, 56, 12, 78, 34, 89, 45, 67, 32, 98, 14, 76, 54, 43, 21, 65]\n",
      "Lista ordenada:  [12, 14, 21, 23, 32, 34, 43, 45, 54, 56, 65, 67, 76, 78, 89, 98]\n"
     ]
    }
   ],
   "source": [
    "print(\"Algoritmo do Bubble sort em python\")\n",
    "\n",
    "list1 = [23, 56, 12, 78, 34, 89, 45, 67, 32, 98,\n",
    "         14, 76, 54, 43, 21, 65]\n",
    "list2 = list1\n",
    "\n",
    "def bubbleSort(arr):\n",
    "    n = len(arr)\n",
    "\n",
    "    for i in range(n):\n",
    "\n",
    "            for j in range(n-1):\n",
    "                if(arr[j] > arr[j+1]):\n",
    "                    arr[j], arr[j+1]= arr[j+1], arr[j]\n",
    "    return arr\n",
    "\n",
    "print(\"lista desordenada: \", list1)\n",
    "print(\"Lista ordenada: \", bubbleSort(list2))"
   ]
  },
  {
   "cell_type": "code",
   "execution_count": null,
   "id": "46ce3832-fa7d-42cc-b681-e3d533117940",
   "metadata": {},
   "outputs": [],
   "source": []
  }
 ],
 "metadata": {
  "kernelspec": {
   "display_name": "Python 3 (ipykernel)",
   "language": "python",
   "name": "python3"
  },
  "language_info": {
   "codemirror_mode": {
    "name": "ipython",
    "version": 3
   },
   "file_extension": ".py",
   "mimetype": "text/x-python",
   "name": "python",
   "nbconvert_exporter": "python",
   "pygments_lexer": "ipython3",
   "version": "3.12.7"
  }
 },
 "nbformat": 4,
 "nbformat_minor": 5
}
