{
 "cells": [
  {
   "cell_type": "code",
   "execution_count": 2,
   "id": "d179eae3-6603-4c85-9186-2971d7336f8d",
   "metadata": {},
   "outputs": [],
   "source": [
    "def add(n1,n2):\n",
    "    return n1+n2\n",
    "\n",
    "def sub(n1,n2):\n",
    "    return n1-n2\n",
    "    \n",
    "def mult(n1,n2):\n",
    "    return n1*n2\n",
    "\n",
    "def div(n1,n2):\n",
    "    return n1/n2"
   ]
  },
  {
   "cell_type": "code",
   "execution_count": null,
   "id": "8f47633c-c9bd-4edb-a2f7-9f8ab4aa8935",
   "metadata": {},
   "outputs": [
    {
     "name": "stdout",
     "output_type": "stream",
     "text": [
      "*********Calculadora em python**********\n",
      "Insira o número da operação desejada: \n",
      "1 - Soma\n",
      "2 - Subtração\n",
      "3 - Multiplicação\n",
      "4 - Divisão\n",
      "5 - Sair\n"
     ]
    },
    {
     "name": "stdin",
     "output_type": "stream",
     "text": [
      "Digite sua opção(1/2/3/4/5):  1\n",
      "Insira o primeiro numero:  23\n",
      "Insira o segundo numero:  56\n"
     ]
    },
    {
     "name": "stdout",
     "output_type": "stream",
     "text": [
      "23.0  +  56.0  =  79.0\n"
     ]
    }
   ],
   "source": [
    "print(\"*********Calculadora em python**********\")\n",
    "\n",
    "print(\"Insira o número da operação desejada: \")\n",
    "\n",
    "print(\"1 - Soma\")\n",
    "print(\"2 - Subtração\")\n",
    "print(\"3 - Multiplicação\")\n",
    "print(\"4 - Divisão\")\n",
    "print(\"5 - Sair\")\n",
    "\n",
    "while True:\n",
    "    choise = int(input(\"Digite sua opção(1/2/3/4/5): \"))\n",
    "    if choise == 5:\n",
    "        print(\"Saindo...\")\n",
    "        break\n",
    "    elif choise >= 1 and choise <= 4:\n",
    "        n1 = float(input(\"Insira o primeiro numero: \"))\n",
    "        n2 = float(input(\"Insira o segundo numero: \"))\n",
    "\n",
    "        if choise == 1:\n",
    "            print(n1, \" + \", n2, \" = \", add(n1,n2))\n",
    "        elif choise == 2:\n",
    "            print(n1, \" - \", n2, \" = \", sub(n1,n2))\n",
    "        elif choise == 3:\n",
    "            print(n1, \" * \", n2, \" = \", mult(n1,n2))\n",
    "        elif choise == 4:\n",
    "            if n1 == 0 or n2 == 0:\n",
    "                print(\"Nenhum número pode ser dividido por zero\")\n",
    "            else:\n",
    "                print(n1, \" / \", n2, \" = \", div(n1,n2))\n",
    "    else:\n",
    "        print(\"Opção incorreto!\")\n"
   ]
  },
  {
   "cell_type": "code",
   "execution_count": null,
   "id": "426d6810-9c6c-46ac-8fcf-5cca833aaf66",
   "metadata": {},
   "outputs": [],
   "source": []
  }
 ],
 "metadata": {
  "kernelspec": {
   "display_name": "Python 3 (ipykernel)",
   "language": "python",
   "name": "python3"
  },
  "language_info": {
   "codemirror_mode": {
    "name": "ipython",
    "version": 3
   },
   "file_extension": ".py",
   "mimetype": "text/x-python",
   "name": "python",
   "nbconvert_exporter": "python",
   "pygments_lexer": "ipython3",
   "version": "3.12.7"
  }
 },
 "nbformat": 4,
 "nbformat_minor": 5
}
