{
 "cells": [
  {
   "cell_type": "markdown",
   "id": "9ca83874-0c92-4f9f-97f8-532fe9c8f756",
   "metadata": {},
   "source": [
    "# Numpy\n",
    "Bibliotéca do python utillizada para realizar operações numéricas"
   ]
  },
  {
   "cell_type": "code",
   "execution_count": 2,
   "id": "94109a69-6b52-4b96-9282-47f46a5debd6",
   "metadata": {},
   "outputs": [],
   "source": [
    "import numpy as np"
   ]
  },
  {
   "cell_type": "code",
   "execution_count": 5,
   "id": "4760e76a-571f-4057-ac8f-5e382afe2ce0",
   "metadata": {},
   "outputs": [],
   "source": [
    "# Criar um Array utilzando numpy\n",
    "a = np.array([1,2,3,4,5,6,7,8,9,10])"
   ]
  },
  {
   "cell_type": "code",
   "execution_count": 6,
   "id": "dc1ff148-d045-4421-a1e5-1e770d0a3aac",
   "metadata": {},
   "outputs": [
    {
     "data": {
      "text/plain": [
       "1"
      ]
     },
     "execution_count": 6,
     "metadata": {},
     "output_type": "execute_result"
    }
   ],
   "source": [
    "a[0]"
   ]
  },
  {
   "cell_type": "code",
   "execution_count": 7,
   "id": "9e12f348-d124-4303-baab-d4551e608b90",
   "metadata": {},
   "outputs": [],
   "source": [
    "a[0] = 11"
   ]
  },
  {
   "cell_type": "code",
   "execution_count": 8,
   "id": "cbe8330d-b53e-44e0-84a5-ce5f8245ecc9",
   "metadata": {},
   "outputs": [
    {
     "data": {
      "text/plain": [
       "array([11,  2,  3,  4,  5,  6,  7,  8,  9, 10])"
      ]
     },
     "execution_count": 8,
     "metadata": {},
     "output_type": "execute_result"
    }
   ],
   "source": [
    "a"
   ]
  },
  {
   "cell_type": "code",
   "execution_count": 12,
   "id": "ff2e4c0a-94a5-4019-9661-ba7242e7e0e2",
   "metadata": {},
   "outputs": [
    {
     "data": {
      "text/plain": [
       "array([11,  2,  3])"
      ]
     },
     "execution_count": 12,
     "metadata": {},
     "output_type": "execute_result"
    }
   ],
   "source": [
    "a[:3]"
   ]
  },
  {
   "cell_type": "code",
   "execution_count": 13,
   "id": "b1e28c4f-35b6-44fa-a603-917fa22e659e",
   "metadata": {},
   "outputs": [
    {
     "data": {
      "text/plain": [
       "array([ 4,  5,  6,  7,  8,  9, 10])"
      ]
     },
     "execution_count": 13,
     "metadata": {},
     "output_type": "execute_result"
    }
   ],
   "source": [
    "a[3:]"
   ]
  },
  {
   "cell_type": "code",
   "execution_count": 15,
   "id": "506d7da9-73a9-4517-a60c-e35b6b847906",
   "metadata": {},
   "outputs": [],
   "source": [
    "a = np.array([[1,2,3],[4,5,6],[7,8,9]])"
   ]
  },
  {
   "cell_type": "code",
   "execution_count": 16,
   "id": "dd08ec10-124a-4648-915b-2db2340be993",
   "metadata": {},
   "outputs": [
    {
     "data": {
      "text/plain": [
       "array([[1, 2, 3],\n",
       "       [4, 5, 6],\n",
       "       [7, 8, 9]])"
      ]
     },
     "execution_count": 16,
     "metadata": {},
     "output_type": "execute_result"
    }
   ],
   "source": [
    "a"
   ]
  },
  {
   "cell_type": "code",
   "execution_count": 17,
   "id": "a13b538d-b9f9-4e69-a801-19db7289c205",
   "metadata": {},
   "outputs": [
    {
     "data": {
      "text/plain": [
       "6"
      ]
     },
     "execution_count": 17,
     "metadata": {},
     "output_type": "execute_result"
    }
   ],
   "source": [
    "a[1,2]"
   ]
  },
  {
   "cell_type": "markdown",
   "id": "2e10f579-ab07-4389-a45c-3423e7b05bb8",
   "metadata": {},
   "source": [
    "### size = números de elementos no total\n",
    "### ndim = numero de dimensões\n",
    "### shape = número de elementos em cada dimensão"
   ]
  },
  {
   "cell_type": "code",
   "execution_count": 18,
   "id": "f2ca6fbc-8ef1-4ad6-ad5d-ecedf35f788e",
   "metadata": {},
   "outputs": [
    {
     "data": {
      "text/plain": [
       "2"
      ]
     },
     "execution_count": 18,
     "metadata": {},
     "output_type": "execute_result"
    }
   ],
   "source": [
    "# Printa o número de dimensões de um array\n",
    "a.ndim"
   ]
  },
  {
   "cell_type": "code",
   "execution_count": 19,
   "id": "2ff548ff-cffe-4c76-9492-b0f67dd47351",
   "metadata": {},
   "outputs": [
    {
     "data": {
      "text/plain": [
       "(3, 3)"
      ]
     },
     "execution_count": 19,
     "metadata": {},
     "output_type": "execute_result"
    }
   ],
   "source": [
    "a.shape"
   ]
  },
  {
   "cell_type": "code",
   "execution_count": 21,
   "id": "3ccf084d-a5d3-460f-b63a-4fa6518bbe40",
   "metadata": {},
   "outputs": [
    {
     "data": {
      "text/plain": [
       "True"
      ]
     },
     "execution_count": 21,
     "metadata": {},
     "output_type": "execute_result"
    }
   ],
   "source": [
    "len(a.shape) == a.ndim"
   ]
  },
  {
   "cell_type": "code",
   "execution_count": 22,
   "id": "f19c7ebc-a29e-490e-9f28-2ded71f593b6",
   "metadata": {},
   "outputs": [
    {
     "data": {
      "text/plain": [
       "9"
      ]
     },
     "execution_count": 22,
     "metadata": {},
     "output_type": "execute_result"
    }
   ],
   "source": [
    "a.size"
   ]
  },
  {
   "cell_type": "code",
   "execution_count": 25,
   "id": "c15192fb-ec9e-4e51-b32f-32be83e24f19",
   "metadata": {},
   "outputs": [
    {
     "data": {
      "text/plain": [
       "dtype('int64')"
      ]
     },
     "execution_count": 25,
     "metadata": {},
     "output_type": "execute_result"
    }
   ],
   "source": [
    "# Ver tipo do dado usando numpy\n",
    "a.dtype ## int - inteiro, 64 - 64 bits"
   ]
  },
  {
   "cell_type": "markdown",
   "id": "f5de0e1b-c43b-4774-81cf-f9358d0430b2",
   "metadata": {},
   "source": [
    "# Básico de criar um array"
   ]
  },
  {
   "cell_type": "code",
   "execution_count": 28,
   "id": "6848a106-79e9-4405-8a30-75c931860799",
   "metadata": {},
   "outputs": [
    {
     "data": {
      "text/plain": [
       "array([0., 0.])"
      ]
     },
     "execution_count": 28,
     "metadata": {},
     "output_type": "execute_result"
    }
   ],
   "source": [
    "# Criar uma array com 2 elementos 0\n",
    "np.zeros(2)"
   ]
  },
  {
   "cell_type": "code",
   "execution_count": 29,
   "id": "93ab4cff-e514-45a1-88ca-1ddc72e524a7",
   "metadata": {},
   "outputs": [
    {
     "data": {
      "text/plain": [
       "array([1., 1.])"
      ]
     },
     "execution_count": 29,
     "metadata": {},
     "output_type": "execute_result"
    }
   ],
   "source": [
    "# Criar uma array com 2 elementos 1\n",
    "np.ones(2)"
   ]
  },
  {
   "cell_type": "code",
   "execution_count": 34,
   "id": "50a69858-2660-44c9-a786-be6473e6bce0",
   "metadata": {},
   "outputs": [
    {
     "data": {
      "text/plain": [
       "array([5.5557e-319, 1.5810e-322])"
      ]
     },
     "execution_count": 34,
     "metadata": {},
     "output_type": "execute_result"
    }
   ],
   "source": [
    "# Usando empty criamos um array que será preenchido aleatóriamente ou com base na memória do computador\n",
    "np.empty(2)"
   ]
  },
  {
   "cell_type": "code",
   "execution_count": 36,
   "id": "eff179d2-a3cc-4257-a413-7d46ba7b6bc7",
   "metadata": {},
   "outputs": [
    {
     "data": {
      "text/plain": [
       "array([0, 1, 2, 3, 4])"
      ]
     },
     "execution_count": 36,
     "metadata": {},
     "output_type": "execute_result"
    }
   ],
   "source": [
    "# Podemos criar um array com um range de elementos\n",
    "np.arange(5)"
   ]
  },
  {
   "cell_type": "code",
   "execution_count": 37,
   "id": "f2648814-c526-4288-9a56-e57e32ab0c1f",
   "metadata": {},
   "outputs": [
    {
     "data": {
      "text/plain": [
       "array([2, 4, 6, 8])"
      ]
     },
     "execution_count": 37,
     "metadata": {},
     "output_type": "execute_result"
    }
   ],
   "source": [
    "# Podemos criar um array com um range dividido por intervalos\n",
    "# O primeiro elemento é o valor inicial, o segundo o valor final, o terceiro o tamanho do intervalo\n",
    "np.arange(2,9,2)"
   ]
  },
  {
   "cell_type": "code",
   "execution_count": 43,
   "id": "110185e4-22f9-4df2-ab34-7d5efe2c4763",
   "metadata": {},
   "outputs": [
    {
     "data": {
      "text/plain": [
       "array([ 0. ,  2.5,  5. ,  7.5, 10. ])"
      ]
     },
     "execution_count": 43,
     "metadata": {},
     "output_type": "execute_result"
    }
   ],
   "source": [
    "# Dificil explicar, mude no valor num e vai entender\n",
    "np.linspace(0,10,num=5)"
   ]
  },
  {
   "cell_type": "code",
   "execution_count": 44,
   "id": "e7092a87-d89a-4c73-a048-736b28c80fda",
   "metadata": {},
   "outputs": [],
   "source": [
    "# Podemos especificar qual tipo de valor será usado\n",
    "x = np.ones(2,dtype = np.int64)"
   ]
  },
  {
   "cell_type": "code",
   "execution_count": 45,
   "id": "435ab138-9670-44a5-a075-7c71494d2bc5",
   "metadata": {},
   "outputs": [
    {
     "data": {
      "text/plain": [
       "array([1, 1])"
      ]
     },
     "execution_count": 45,
     "metadata": {},
     "output_type": "execute_result"
    }
   ],
   "source": [
    "x"
   ]
  },
  {
   "cell_type": "markdown",
   "id": "ad19e434-a99d-4fab-88a2-17a26e41aee7",
   "metadata": {},
   "source": [
    "# Adicionando, removendo e organizando elementos"
   ]
  },
  {
   "cell_type": "code",
   "execution_count": 8,
   "id": "d988bed1-97d3-4231-8e23-41d682172e24",
   "metadata": {},
   "outputs": [],
   "source": [
    "a = np.array([2,5,7,4,6,1,9,8])"
   ]
  },
  {
   "cell_type": "code",
   "execution_count": 9,
   "id": "cc98fd17-2a7c-469e-817e-9454a82a7735",
   "metadata": {},
   "outputs": [
    {
     "data": {
      "text/plain": [
       "array([1, 2, 4, 5, 6, 7, 8, 9])"
      ]
     },
     "execution_count": 9,
     "metadata": {},
     "output_type": "execute_result"
    }
   ],
   "source": [
    "np.sort(a)"
   ]
  },
  {
   "cell_type": "markdown",
   "id": "d216d259-3dbd-4179-8131-cd0ce9be83e8",
   "metadata": {},
   "source": [
    "Por padrão o .sort() usa introsort, um método hibrido entre Quicksort, Insertion sort, Heapsort.\n",
    "Veja mais em \"https://11dhanushs.medium.com/intro-sort-a-brief-introduction-f06b419674de\""
   ]
  },
  {
   "cell_type": "code",
   "execution_count": 10,
   "id": "0ebd9eed-f686-4dd1-b50e-a516eba93c76",
   "metadata": {},
   "outputs": [],
   "source": [
    "a = np.array([1,2,3,4,5])\n",
    "b = np.array([6,7,8,9,10])"
   ]
  },
  {
   "cell_type": "code",
   "execution_count": 11,
   "id": "cbaf1d89-677c-44d3-a912-bfd25ae8b898",
   "metadata": {},
   "outputs": [
    {
     "data": {
      "text/plain": [
       "array([ 1,  2,  3,  4,  5,  6,  7,  8,  9, 10])"
      ]
     },
     "execution_count": 11,
     "metadata": {},
     "output_type": "execute_result"
    }
   ],
   "source": [
    "np.concatenate((a,b))"
   ]
  },
  {
   "cell_type": "code",
   "execution_count": 15,
   "id": "e3735efa-d05c-4367-8bb6-3a83844ec476",
   "metadata": {},
   "outputs": [],
   "source": [
    "x = np.array([[1,2], [3,4]])\n",
    "y = np.array([[5,6]])"
   ]
  },
  {
   "cell_type": "code",
   "execution_count": 18,
   "id": "f9bca0b3-522a-4cc3-b1d2-853c0a32c095",
   "metadata": {},
   "outputs": [
    {
     "data": {
      "text/plain": [
       "array([[1, 2],\n",
       "       [3, 4],\n",
       "       [5, 6]])"
      ]
     },
     "execution_count": 18,
     "metadata": {},
     "output_type": "execute_result"
    }
   ],
   "source": [
    "np.concatenate((x,y), axis=0)"
   ]
  },
  {
   "cell_type": "code",
   "execution_count": null,
   "id": "b335f963-9f93-485a-ac94-b719f4fd4e8f",
   "metadata": {},
   "outputs": [],
   "source": []
  }
 ],
 "metadata": {
  "kernelspec": {
   "display_name": "Python 3 (ipykernel)",
   "language": "python",
   "name": "python3"
  },
  "language_info": {
   "codemirror_mode": {
    "name": "ipython",
    "version": 3
   },
   "file_extension": ".py",
   "mimetype": "text/x-python",
   "name": "python",
   "nbconvert_exporter": "python",
   "pygments_lexer": "ipython3",
   "version": "3.12.7"
  }
 },
 "nbformat": 4,
 "nbformat_minor": 5
}
