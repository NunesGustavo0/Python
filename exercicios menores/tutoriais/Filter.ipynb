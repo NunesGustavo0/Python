{
 "cells": [
  {
   "cell_type": "markdown",
   "id": "3223e300-9e47-4dc3-89d6-d0e07a50dec8",
   "metadata": {},
   "source": [
    "# filtro\n",
    "Filtra e retorna apenas os valores verdadeiros(True)"
   ]
  },
  {
   "cell_type": "code",
   "execution_count": 5,
   "id": "057b768c-9f8d-4440-a68b-e542da0211f8",
   "metadata": {},
   "outputs": [],
   "source": [
    "def verificaPar(x):\n",
    "    if x % 2 == 0:\n",
    "        return True\n",
    "    else:\n",
    "        return False"
   ]
  },
  {
   "cell_type": "code",
   "execution_count": 6,
   "id": "c916f384-250d-47f7-8381-cbb85c60afb3",
   "metadata": {},
   "outputs": [
    {
     "data": {
      "text/plain": [
       "False"
      ]
     },
     "execution_count": 6,
     "metadata": {},
     "output_type": "execute_result"
    }
   ],
   "source": [
    "verificaPar(25)"
   ]
  },
  {
   "cell_type": "code",
   "execution_count": 7,
   "id": "e097b4ec-3718-47a0-932e-3e3aced7d937",
   "metadata": {},
   "outputs": [
    {
     "data": {
      "text/plain": [
       "True"
      ]
     },
     "execution_count": 7,
     "metadata": {},
     "output_type": "execute_result"
    }
   ],
   "source": [
    "verificaPar(10)"
   ]
  },
  {
   "cell_type": "code",
   "execution_count": 9,
   "id": "c1ca9984-3ec0-46bb-a549-17f145e6aba9",
   "metadata": {},
   "outputs": [],
   "source": [
    "lista = [0,1,2,3,4,5,6,7,8,9,10,11,12,13,14,15]"
   ]
  },
  {
   "cell_type": "code",
   "execution_count": 13,
   "id": "6bc02ce3-19ff-4d06-8094-43c7f991a179",
   "metadata": {},
   "outputs": [
    {
     "data": {
      "text/plain": [
       "[0, 2, 4, 6, 8, 10, 12, 14]"
      ]
     },
     "execution_count": 13,
     "metadata": {},
     "output_type": "execute_result"
    }
   ],
   "source": [
    "list(filter(verificaPar, lista))"
   ]
  },
  {
   "cell_type": "code",
   "execution_count": 14,
   "id": "7fbf08dd-9185-438b-90a7-ddd08302f6ed",
   "metadata": {},
   "outputs": [
    {
     "data": {
      "text/plain": [
       "[0, 2, 4, 6, 8, 10, 12, 14]"
      ]
     },
     "execution_count": 14,
     "metadata": {},
     "output_type": "execute_result"
    }
   ],
   "source": [
    "list(filter(lambda x: x%2 ==0, lista))"
   ]
  },
  {
   "cell_type": "code",
   "execution_count": null,
   "id": "6a61517f-527d-4cdc-8324-eace8d8cea00",
   "metadata": {},
   "outputs": [],
   "source": []
  }
 ],
 "metadata": {
  "kernelspec": {
   "display_name": "Python 3 (ipykernel)",
   "language": "python",
   "name": "python3"
  },
  "language_info": {
   "codemirror_mode": {
    "name": "ipython",
    "version": 3
   },
   "file_extension": ".py",
   "mimetype": "text/x-python",
   "name": "python",
   "nbconvert_exporter": "python",
   "pygments_lexer": "ipython3",
   "version": "3.12.7"
  }
 },
 "nbformat": 4,
 "nbformat_minor": 5
}
