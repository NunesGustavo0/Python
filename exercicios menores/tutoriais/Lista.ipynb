{
 "cells": [
  {
   "cell_type": "code",
   "execution_count": null,
   "id": "0146a3c0-ec2e-43a9-aa22-5654658e3093",
   "metadata": {},
   "outputs": [],
   "source": [
    "## [] = Listas\n",
    "## {} = Dicionários\n",
    "## () = Tupla"
   ]
  },
  {
   "cell_type": "code",
   "execution_count": 35,
   "id": "465301c4-b82e-406b-b463-5320f01acb4c",
   "metadata": {},
   "outputs": [],
   "source": [
    "list_1 = [\"Números: \", 10, 20, 30, 40]"
   ]
  },
  {
   "cell_type": "code",
   "execution_count": 4,
   "id": "14341b13-f5bc-4a61-8a92-8b968b2d22f7",
   "metadata": {},
   "outputs": [
    {
     "name": "stdout",
     "output_type": "stream",
     "text": [
      "['Números: ', 'dez', 20, 30, 40]\n"
     ]
    }
   ],
   "source": [
    "print(list_1)"
   ]
  },
  {
   "cell_type": "code",
   "execution_count": 8,
   "id": "9b428093-b3f8-46cb-b60f-bd9a442c52e0",
   "metadata": {},
   "outputs": [
    {
     "data": {
      "text/plain": [
       "list"
      ]
     },
     "execution_count": 8,
     "metadata": {},
     "output_type": "execute_result"
    }
   ],
   "source": [
    "type(list_1)"
   ]
  },
  {
   "cell_type": "code",
   "execution_count": 6,
   "id": "2ddae29c-d6e7-4cb7-91aa-70a6d5f6c75a",
   "metadata": {},
   "outputs": [
    {
     "name": "stdout",
     "output_type": "stream",
     "text": [
      "10\n"
     ]
    }
   ],
   "source": [
    "print(list_1[1])"
   ]
  },
  {
   "cell_type": "code",
   "execution_count": 7,
   "id": "a284b348-9c58-47d2-adc0-096b26bf57cb",
   "metadata": {},
   "outputs": [],
   "source": [
    "## Atribuindo valores a uma variavel\n",
    "a = list_1[0]\n",
    "b = list_1[1]\n",
    "c = list_1[2]"
   ]
  },
  {
   "cell_type": "code",
   "execution_count": 8,
   "id": "06b7f265-7690-4522-8ed8-50f9fd0e86a7",
   "metadata": {},
   "outputs": [
    {
     "name": "stdout",
     "output_type": "stream",
     "text": [
      "Números:  10 20\n"
     ]
    }
   ],
   "source": [
    "print(a, b, c)"
   ]
  },
  {
   "cell_type": "code",
   "execution_count": 3,
   "id": "364c620a-de38-490c-a495-22dd3907a7b2",
   "metadata": {},
   "outputs": [],
   "source": [
    "## Atualizando valores\n",
    "list_1[1] = \"dez\""
   ]
  },
  {
   "cell_type": "code",
   "execution_count": 10,
   "id": "d44f797a-2a71-46b3-8237-a2b50ceca57a",
   "metadata": {},
   "outputs": [],
   "source": [
    "## Deletar item da lista\n",
    "del list_1[3]"
   ]
  },
  {
   "cell_type": "code",
   "execution_count": 11,
   "id": "385197a4-2bc1-49c7-a39b-6d4d240f4908",
   "metadata": {},
   "outputs": [
    {
     "data": {
      "text/plain": [
       "['Números: ', 'dez', 20, 40]"
      ]
     },
     "execution_count": 11,
     "metadata": {},
     "output_type": "execute_result"
    }
   ],
   "source": [
    "list_1"
   ]
  },
  {
   "cell_type": "code",
   "execution_count": 12,
   "id": "3c5f750a-7cc2-4d45-96f4-bd84e75aaca1",
   "metadata": {},
   "outputs": [],
   "source": [
    "## Lista de lista(Lista Aninhadas)\n",
    "listas = [[1,2,3],[10,5,4,3,2,1],[2.2,5.6,4.0,\"olá\"]]"
   ]
  },
  {
   "cell_type": "code",
   "execution_count": 13,
   "id": "6f7eb3c4-232c-4ab8-9784-d21467a93eb9",
   "metadata": {},
   "outputs": [
    {
     "data": {
      "text/plain": [
       "[[1, 2, 3], [10, 5, 4, 3, 2, 1], [2.2, 5.6, 4.0, 'olá']]"
      ]
     },
     "execution_count": 13,
     "metadata": {},
     "output_type": "execute_result"
    }
   ],
   "source": [
    "listas"
   ]
  },
  {
   "cell_type": "code",
   "execution_count": 14,
   "id": "d04121f7-dc8f-4511-bea9-963e034d7ffb",
   "metadata": {},
   "outputs": [],
   "source": [
    "a = listas[0]"
   ]
  },
  {
   "cell_type": "code",
   "execution_count": 15,
   "id": "1b4ba790-f869-4cf7-8ecb-ffdbcb04e78d",
   "metadata": {},
   "outputs": [
    {
     "data": {
      "text/plain": [
       "[1, 2, 3]"
      ]
     },
     "execution_count": 15,
     "metadata": {},
     "output_type": "execute_result"
    }
   ],
   "source": [
    "a"
   ]
  },
  {
   "cell_type": "code",
   "execution_count": 16,
   "id": "9cf10712-a2e5-4f3c-96d7-956446ad1f6c",
   "metadata": {},
   "outputs": [],
   "source": [
    "b = a[0]"
   ]
  },
  {
   "cell_type": "code",
   "execution_count": 17,
   "id": "26a3da7f-8729-40b9-87af-b831fa0defc8",
   "metadata": {},
   "outputs": [
    {
     "data": {
      "text/plain": [
       "1"
      ]
     },
     "execution_count": 17,
     "metadata": {},
     "output_type": "execute_result"
    }
   ],
   "source": [
    "b"
   ]
  },
  {
   "cell_type": "code",
   "execution_count": 18,
   "id": "2eba5030-3bce-4c36-b65d-36e2164c1650",
   "metadata": {},
   "outputs": [],
   "source": [
    "lista = listas[1]"
   ]
  },
  {
   "cell_type": "code",
   "execution_count": 19,
   "id": "2242fce1-3e7d-4f04-91c2-bb7a527e0160",
   "metadata": {},
   "outputs": [],
   "source": [
    "valor_1_0 = lista[0]"
   ]
  },
  {
   "cell_type": "code",
   "execution_count": 20,
   "id": "10ff56e9-55d1-48b6-8855-b6153e56770b",
   "metadata": {},
   "outputs": [
    {
     "data": {
      "text/plain": [
       "10"
      ]
     },
     "execution_count": 20,
     "metadata": {},
     "output_type": "execute_result"
    }
   ],
   "source": [
    "valor_1_0"
   ]
  },
  {
   "cell_type": "code",
   "execution_count": 22,
   "id": "25ea82a7-e441-42fe-a182-95018d4cdf2f",
   "metadata": {},
   "outputs": [],
   "source": [
    "## Operações com listas\n",
    "a = listas[0][0]"
   ]
  },
  {
   "cell_type": "code",
   "execution_count": 23,
   "id": "a9a288a8-fcf5-4a39-a675-5f3c844b74b6",
   "metadata": {},
   "outputs": [
    {
     "data": {
      "text/plain": [
       "1"
      ]
     },
     "execution_count": 23,
     "metadata": {},
     "output_type": "execute_result"
    }
   ],
   "source": [
    "a"
   ]
  },
  {
   "cell_type": "code",
   "execution_count": 24,
   "id": "cf90f790-4b39-4e02-9be2-d7ae3ffa3245",
   "metadata": {},
   "outputs": [],
   "source": [
    "c = listas[0][2] + 10"
   ]
  },
  {
   "cell_type": "code",
   "execution_count": 25,
   "id": "23c1b7b7-6e57-462d-8936-f0cfeff7bfc3",
   "metadata": {},
   "outputs": [
    {
     "data": {
      "text/plain": [
       "13"
      ]
     },
     "execution_count": 25,
     "metadata": {},
     "output_type": "execute_result"
    }
   ],
   "source": [
    "c"
   ]
  },
  {
   "cell_type": "code",
   "execution_count": 26,
   "id": "f201daaa-0968-467a-b873-91e3e85b2717",
   "metadata": {},
   "outputs": [],
   "source": [
    "d = c * listas[2][1]"
   ]
  },
  {
   "cell_type": "code",
   "execution_count": 27,
   "id": "cb776662-2270-4850-8cac-55753d24c79e",
   "metadata": {},
   "outputs": [
    {
     "data": {
      "text/plain": [
       "72.8"
      ]
     },
     "execution_count": 27,
     "metadata": {},
     "output_type": "execute_result"
    }
   ],
   "source": [
    "d"
   ]
  },
  {
   "cell_type": "code",
   "execution_count": 28,
   "id": "97cd651f-c84e-4a5d-980f-1803e95272a5",
   "metadata": {},
   "outputs": [],
   "source": [
    "lista1 = [1,2,3,4,5]\n",
    "lista2 = [6,7,8,9,10]"
   ]
  },
  {
   "cell_type": "code",
   "execution_count": 29,
   "id": "6a392c8c-7468-4ba8-ab3c-2991ab35b050",
   "metadata": {},
   "outputs": [],
   "source": [
    "## Concatenando listas\n",
    "listaCompleta = lista1 + lista2"
   ]
  },
  {
   "cell_type": "code",
   "execution_count": 30,
   "id": "98bed9f9-ef96-4f8e-b2b7-4a4ac1ab601e",
   "metadata": {},
   "outputs": [
    {
     "data": {
      "text/plain": [
       "[1, 2, 3, 4, 5, 6, 7, 8, 9, 10]"
      ]
     },
     "execution_count": 30,
     "metadata": {},
     "output_type": "execute_result"
    }
   ],
   "source": [
    "listaCompleta"
   ]
  },
  {
   "cell_type": "code",
   "execution_count": 33,
   "id": "53b90355-ff95-4cba-ab61-563a83786000",
   "metadata": {},
   "outputs": [
    {
     "name": "stdout",
     "output_type": "stream",
     "text": [
      "True\n"
     ]
    }
   ],
   "source": [
    "print(6 in listaCompleta)"
   ]
  },
  {
   "cell_type": "code",
   "execution_count": 34,
   "id": "3c1f00bf-77f9-4b7f-afb1-6b91421aff3e",
   "metadata": {},
   "outputs": [
    {
     "name": "stdout",
     "output_type": "stream",
     "text": [
      "False\n"
     ]
    }
   ],
   "source": [
    "print(11 in listaCompleta)"
   ]
  },
  {
   "cell_type": "code",
   "execution_count": 39,
   "id": "59823b71-76bc-4ee7-b6e9-d00d6a66ed1c",
   "metadata": {},
   "outputs": [
    {
     "data": {
      "text/plain": [
       "10"
      ]
     },
     "execution_count": 39,
     "metadata": {},
     "output_type": "execute_result"
    }
   ],
   "source": [
    "## Funções built-in\n",
    "## Retorna o tamanho da lista\n",
    "len(listaCompleta)"
   ]
  },
  {
   "cell_type": "code",
   "execution_count": 41,
   "id": "321498a0-c9e1-402a-a63d-7cd6f5a4894a",
   "metadata": {},
   "outputs": [
    {
     "data": {
      "text/plain": [
       "10"
      ]
     },
     "execution_count": 41,
     "metadata": {},
     "output_type": "execute_result"
    }
   ],
   "source": [
    "## Valor maximo/maior da lista\n",
    "max(listaCompleta)"
   ]
  },
  {
   "cell_type": "code",
   "execution_count": 43,
   "id": "c765c46a-82d8-4245-8f0e-08069dcd3f77",
   "metadata": {},
   "outputs": [
    {
     "data": {
      "text/plain": [
       "1"
      ]
     },
     "execution_count": 43,
     "metadata": {},
     "output_type": "execute_result"
    }
   ],
   "source": [
    "## Valor minimo\n",
    "min(listaCompleta)"
   ]
  },
  {
   "cell_type": "code",
   "execution_count": 44,
   "id": "d2da3f20-4b52-4727-bc2c-13b44b847ac0",
   "metadata": {},
   "outputs": [],
   "source": [
    "listaPalavras = ['Espero', 'Passar', 'no']"
   ]
  },
  {
   "cell_type": "code",
   "execution_count": 45,
   "id": "e0ddae97-14fc-47d6-9a78-5a55e0624251",
   "metadata": {},
   "outputs": [
    {
     "data": {
      "text/plain": [
       "['Espero', 'Passar', 'no']"
      ]
     },
     "execution_count": 45,
     "metadata": {},
     "output_type": "execute_result"
    }
   ],
   "source": [
    "listaPalavras"
   ]
  },
  {
   "cell_type": "code",
   "execution_count": 46,
   "id": "ff43b54a-8bf1-4122-b784-1f85115a4e74",
   "metadata": {},
   "outputs": [],
   "source": [
    "listaPalavras.append('intercambio')"
   ]
  },
  {
   "cell_type": "code",
   "execution_count": 47,
   "id": "fd66b712-798e-456e-b83c-c83945e960fd",
   "metadata": {},
   "outputs": [
    {
     "data": {
      "text/plain": [
       "['Espero', 'Passar', 'no', 'intercambio']"
      ]
     },
     "execution_count": 47,
     "metadata": {},
     "output_type": "execute_result"
    }
   ],
   "source": [
    "listaPalavras"
   ]
  },
  {
   "cell_type": "code",
   "execution_count": 50,
   "id": "8d0e5b36-e93e-4a0a-9569-95c26a277e0f",
   "metadata": {},
   "outputs": [],
   "source": [
    "## Não verifica se a string já existe\n",
    "listaPalavras.append('intercambio')"
   ]
  },
  {
   "cell_type": "code",
   "execution_count": 51,
   "id": "cc076c7d-c5e6-4a95-9ab7-fd51987ad3b6",
   "metadata": {},
   "outputs": [
    {
     "data": {
      "text/plain": [
       "['Espero', 'Passar', 'no', 'intercambio', 'intercambio', 'intercambio']"
      ]
     },
     "execution_count": 51,
     "metadata": {},
     "output_type": "execute_result"
    }
   ],
   "source": [
    "listaPalavras"
   ]
  },
  {
   "cell_type": "code",
   "execution_count": 53,
   "id": "a44746c4-25e4-4d82-b4e4-81793b24c228",
   "metadata": {},
   "outputs": [
    {
     "data": {
      "text/plain": [
       "3"
      ]
     },
     "execution_count": 53,
     "metadata": {},
     "output_type": "execute_result"
    }
   ],
   "source": [
    "listaPalavras.count('intercambio')"
   ]
  },
  {
   "cell_type": "code",
   "execution_count": 55,
   "id": "78f9e8af-6ac1-44ad-8380-c76870a36430",
   "metadata": {},
   "outputs": [],
   "source": [
    "a = []"
   ]
  },
  {
   "cell_type": "code",
   "execution_count": 62,
   "id": "6bceb043-7f58-4e03-964a-331a3820239a",
   "metadata": {},
   "outputs": [
    {
     "name": "stdout",
     "output_type": "stream",
     "text": [
      "Qual valor deseja adicionar? \n"
     ]
    },
    {
     "name": "stdin",
     "output_type": "stream",
     "text": [
      "1 30\n"
     ]
    }
   ],
   "source": [
    "print(\"Qual valor deseja adicionar? \")\n",
    "a.append(input(b))"
   ]
  },
  {
   "cell_type": "code",
   "execution_count": 63,
   "id": "f5e6c5c6-98b4-4c10-a191-486b534fe4b8",
   "metadata": {},
   "outputs": [
    {
     "data": {
      "text/plain": [
       "[1, 1, '30']"
      ]
     },
     "execution_count": 63,
     "metadata": {},
     "output_type": "execute_result"
    }
   ],
   "source": [
    "a"
   ]
  },
  {
   "cell_type": "code",
   "execution_count": 64,
   "id": "b0d4dfb4-a89e-4485-8eec-98ca3bcd1d4e",
   "metadata": {},
   "outputs": [
    {
     "name": "stdout",
     "output_type": "stream",
     "text": [
      "[1, 1, '30']\n",
      "[1, 1, '30', 'Espero']\n",
      "[1, 1, '30', 'Espero', 'Passar']\n",
      "[1, 1, '30', 'Espero', 'Passar', 'no']\n",
      "[1, 1, '30', 'Espero', 'Passar', 'no', 'intercambio']\n",
      "[1, 1, '30', 'Espero', 'Passar', 'no', 'intercambio', 'intercambio']\n"
     ]
    }
   ],
   "source": [
    "## Copiando de uma lista para outra\n",
    "for item in listaPalavras:\n",
    "    print(a)\n",
    "    a.append(item)"
   ]
  },
  {
   "cell_type": "code",
   "execution_count": 69,
   "id": "8c44e1e2-0d6d-43bc-9df0-444f5b35b799",
   "metadata": {},
   "outputs": [
    {
     "name": "stdout",
     "output_type": "stream",
     "text": [
      "['Manacapuru', 'Manaus', 'Manicore', 'Parintins', 'Boa vista', 'Palmas']\n"
     ]
    }
   ],
   "source": [
    "cidades = ['Manacapuru', 'Manaus', 'Manicore']\n",
    "cidades.extend(['Parintins', 'Boa vista', 'Palmas'])\n",
    "print(cidades)"
   ]
  },
  {
   "cell_type": "code",
   "execution_count": 71,
   "id": "7361f1ec-4678-415e-9046-671f148cddd5",
   "metadata": {},
   "outputs": [
    {
     "data": {
      "text/plain": [
       "4"
      ]
     },
     "execution_count": 71,
     "metadata": {},
     "output_type": "execute_result"
    }
   ],
   "source": [
    "cidades.index('Boa vista')"
   ]
  },
  {
   "cell_type": "code",
   "execution_count": 73,
   "id": "66ec2a1f-9fb5-4a34-a281-400ea7bf4c98",
   "metadata": {},
   "outputs": [],
   "source": [
    "## Adiciona a palavra(direita) no indice 2\n",
    "cidades.insert(2, 'Maues')"
   ]
  },
  {
   "cell_type": "code",
   "execution_count": 74,
   "id": "5dec3500-b435-4379-bf7a-6a6b1b2e8792",
   "metadata": {},
   "outputs": [
    {
     "data": {
      "text/plain": [
       "['Manacapuru',\n",
       " 'Manaus',\n",
       " 'Maues',\n",
       " 'Manicore',\n",
       " 'Parintins',\n",
       " 'Boa vista',\n",
       " 'Palmas']"
      ]
     },
     "execution_count": 74,
     "metadata": {},
     "output_type": "execute_result"
    }
   ],
   "source": [
    "cidades"
   ]
  },
  {
   "cell_type": "code",
   "execution_count": 76,
   "id": "a523606c-6454-4a40-8544-9bdf444ea2e8",
   "metadata": {},
   "outputs": [],
   "source": [
    "cidades.remove('Maues')"
   ]
  },
  {
   "cell_type": "code",
   "execution_count": 77,
   "id": "a8d29d69-dde6-4426-a8fb-ad5c6ab68e5c",
   "metadata": {},
   "outputs": [
    {
     "data": {
      "text/plain": [
       "['Manacapuru', 'Manaus', 'Manicore', 'Parintins', 'Boa vista', 'Palmas']"
      ]
     },
     "execution_count": 77,
     "metadata": {},
     "output_type": "execute_result"
    }
   ],
   "source": [
    "cidades"
   ]
  },
  {
   "cell_type": "code",
   "execution_count": 78,
   "id": "a681be17-3768-4e27-bf89-298c5bbf299b",
   "metadata": {},
   "outputs": [],
   "source": [
    "cidades.reverse()"
   ]
  },
  {
   "cell_type": "code",
   "execution_count": 83,
   "id": "3ad7952e-ceba-4c2d-9d18-0f0c6c2daf4b",
   "metadata": {},
   "outputs": [
    {
     "data": {
      "text/plain": [
       "['Palmas', 'Boa vista', 'Parintins', 'Manicore', 'Manaus', 'Manacapuru']"
      ]
     },
     "execution_count": 83,
     "metadata": {},
     "output_type": "execute_result"
    }
   ],
   "source": [
    "cidades"
   ]
  },
  {
   "cell_type": "code",
   "execution_count": 80,
   "id": "aeb4d4b6-c08d-463a-a214-c5c23731da55",
   "metadata": {},
   "outputs": [],
   "source": [
    "numeros = [6,7,9,2,5,30,201,5,4,5]"
   ]
  },
  {
   "cell_type": "code",
   "execution_count": 81,
   "id": "1f3f83e0-df35-4689-b3d6-090156b461a2",
   "metadata": {},
   "outputs": [],
   "source": [
    "numeros.sort()"
   ]
  },
  {
   "cell_type": "code",
   "execution_count": 82,
   "id": "e16a233a-fc51-4c1f-acac-0bde85e744e9",
   "metadata": {},
   "outputs": [
    {
     "data": {
      "text/plain": [
       "[2, 4, 5, 5, 5, 6, 7, 9, 30, 201]"
      ]
     },
     "execution_count": 82,
     "metadata": {},
     "output_type": "execute_result"
    }
   ],
   "source": [
    "numeros"
   ]
  },
  {
   "cell_type": "code",
   "execution_count": null,
   "id": "cd250752-9bcb-427d-85ac-00c066278294",
   "metadata": {},
   "outputs": [],
   "source": []
  }
 ],
 "metadata": {
  "kernelspec": {
   "display_name": "Python 3 (ipykernel)",
   "language": "python",
   "name": "python3"
  },
  "language_info": {
   "codemirror_mode": {
    "name": "ipython",
    "version": 3
   },
   "file_extension": ".py",
   "mimetype": "text/x-python",
   "name": "python",
   "nbconvert_exporter": "python",
   "pygments_lexer": "ipython3",
   "version": "3.12.7"
  }
 },
 "nbformat": 4,
 "nbformat_minor": 5
}
