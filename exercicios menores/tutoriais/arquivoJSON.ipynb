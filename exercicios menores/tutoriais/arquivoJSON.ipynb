{
 "cells": [
  {
   "cell_type": "markdown",
   "id": "3c437090-a994-4686-bd01-ecd095cbbcb6",
   "metadata": {},
   "source": [
    "# JSON\n",
    "## JavaScript Object Notacion\n",
    "### Formato de texto, mas a organização dos dados é feito em forma de dicionário, semelhante aos dicionários em python"
   ]
  },
  {
   "cell_type": "code",
   "execution_count": 1,
   "id": "8bcca7c8-feca-4684-91d2-1d6ebda9e475",
   "metadata": {},
   "outputs": [],
   "source": [
    "dic_pri = {'Nome': 'Gustavo Nunes de Olievira', 'CPF':70372739296, 'Materias':['ABD', 'AS', 'SO', 'IHM']}"
   ]
  },
  {
   "cell_type": "code",
   "execution_count": 5,
   "id": "e91e5d16-1877-4cd8-b37c-27aa0f7e7f79",
   "metadata": {},
   "outputs": [
    {
     "name": "stdout",
     "output_type": "stream",
     "text": [
      "Nome Gustavo Nunes de Olievira\n",
      "CPF 70372739296\n",
      "Materias ['ABD', 'AS', 'SO', 'IHM']\n"
     ]
    }
   ],
   "source": [
    "for v,k in dic_pri.items():\n",
    "    print(v,k)"
   ]
  },
  {
   "cell_type": "code",
   "execution_count": 6,
   "id": "c9c56f63-6e86-474d-b6d4-1279d65cdb1e",
   "metadata": {},
   "outputs": [],
   "source": [
    "import json"
   ]
  },
  {
   "cell_type": "code",
   "execution_count": 7,
   "id": "68b6153b-6df7-47ea-a33c-aa99bbe52ed8",
   "metadata": {},
   "outputs": [
    {
     "data": {
      "text/plain": [
       "'{\"Nome\": \"Gustavo Nunes de Olievira\", \"CPF\": 70372739296, \"Materias\": [\"ABD\", \"AS\", \"SO\", \"IHM\"]}'"
      ]
     },
     "execution_count": 7,
     "metadata": {},
     "output_type": "execute_result"
    }
   ],
   "source": [
    "# Converter dicionario em arquivo JSON\n",
    "json.dumps(dic_pri)"
   ]
  },
  {
   "cell_type": "code",
   "execution_count": 10,
   "id": "ba46ba09-d683-41f8-a9de-0eec2a7be5c3",
   "metadata": {},
   "outputs": [],
   "source": [
    "# Criando um arquivo JSON\n",
    "with open('arquivos/dados.json', 'w') as arquivos:\n",
    "    arquivos.write(json.dumps(dic_pri))"
   ]
  },
  {
   "cell_type": "code",
   "execution_count": 11,
   "id": "e4536eb3-361f-4c21-8c4d-6dfec4784ef9",
   "metadata": {},
   "outputs": [],
   "source": [
    "# Leitura de arquivos json\n",
    "with open('arquivos/dados.json', 'r') as arquivos:\n",
    "    texto = arquivos.read()\n",
    "    dados = json.loads(texto)"
   ]
  },
  {
   "cell_type": "code",
   "execution_count": 13,
   "id": "98a2eb15-61e7-4c94-ab2a-06edfe52a797",
   "metadata": {},
   "outputs": [
    {
     "data": {
      "text/plain": [
       "{'Nome': 'Gustavo Nunes de Olievira',\n",
       " 'CPF': 70372739296,\n",
       " 'Materias': ['ABD', 'AS', 'SO', 'IHM']}"
      ]
     },
     "execution_count": 13,
     "metadata": {},
     "output_type": "execute_result"
    }
   ],
   "source": [
    "dados"
   ]
  },
  {
   "cell_type": "code",
   "execution_count": 15,
   "id": "f22ae29b-9471-4cda-a0e9-bc7fe4af0896",
   "metadata": {},
   "outputs": [
    {
     "name": "stdout",
     "output_type": "stream",
     "text": [
      "['ABD', 'AS', 'SO', 'IHM']\n"
     ]
    }
   ],
   "source": [
    "print(dados['Materias'])"
   ]
  },
  {
   "cell_type": "markdown",
   "id": "36652cb5-4b83-4395-a54a-02b641d89692",
   "metadata": {},
   "source": [
    "# Extraindo arquivos da Web"
   ]
  },
  {
   "cell_type": "code",
   "execution_count": 17,
   "id": "e736efdc-db5b-41a3-b5dc-4270bd94c48b",
   "metadata": {},
   "outputs": [],
   "source": [
    "# imprimindo arquivo json da web\n",
    "from urllib.request import urlopen\n",
    "\n",
    "response = urlopen(\"https://vimeo.com/api/v2/video/57733101.json\").read().decode(\"utf8\")\n",
    "dados = json.loads(response)[0]"
   ]
  },
  {
   "cell_type": "code",
   "execution_count": 18,
   "id": "c3598e86-73c1-4b75-acf5-cb4c08366d1e",
   "metadata": {},
   "outputs": [
    {
     "data": {
      "text/plain": [
       "{'id': 57733101,\n",
       " 'title': 'The Good Man trailer',\n",
       " 'description': 'Trailer for the Manifesto Films production, The Good Man, now available in UK/Ireland/US/Canada/Australia/New Zealand on iTunes (https://itunes.apple.com/us/movie/the-good-man/id873130906) and DVD (http://www.amazon.co.uk/The-Good-Man-Aiden-Gillen/dp/B00IIK6CGU/). Co-production with Jet Black Entertainment (South Africa). Starring Aidan Gillen, Thabang Sidloyi, Kelly Campbell, Lunathi Mampofu. Written & directed by Phil Harrison. More info at www.thegoodmanfilm.com<br />\\r\\n<br />\\r\\nCheck out the Variety Magazine review here: http://www.variety.com/review/VE1117947909/',\n",
       " 'url': 'https://vimeo.com/57733101',\n",
       " 'upload_date': '2013-01-19 04:01:15',\n",
       " 'thumbnail_small': 'https://i.vimeocdn.com/video/436057121-e828a1f5478ec0136e957753d107f2a1268c64def9b82faac37c8e30c031cff2-d_100x75',\n",
       " 'thumbnail_medium': 'https://i.vimeocdn.com/video/436057121-e828a1f5478ec0136e957753d107f2a1268c64def9b82faac37c8e30c031cff2-d_200x150',\n",
       " 'thumbnail_large': 'https://i.vimeocdn.com/video/436057121-e828a1f5478ec0136e957753d107f2a1268c64def9b82faac37c8e30c031cff2-d_640',\n",
       " 'user_id': 1334563,\n",
       " 'user_name': 'Manifesto Films',\n",
       " 'user_url': 'https://vimeo.com/manifestofilms',\n",
       " 'user_portrait_small': 'https://i.vimeocdn.com/portrait/4778306_30x30?sig=dce4bd41e32adf3305ffd0a161ae27a5c919bba5773cf2f2c3ca5be075726518&v=1',\n",
       " 'user_portrait_medium': 'https://i.vimeocdn.com/portrait/4778306_75x75?sig=dce4bd41e32adf3305ffd0a161ae27a5c919bba5773cf2f2c3ca5be075726518&v=1',\n",
       " 'user_portrait_large': 'https://i.vimeocdn.com/portrait/4778306_100x100?sig=dce4bd41e32adf3305ffd0a161ae27a5c919bba5773cf2f2c3ca5be075726518&v=1',\n",
       " 'user_portrait_huge': 'https://i.vimeocdn.com/portrait/4778306_300x300?sig=dce4bd41e32adf3305ffd0a161ae27a5c919bba5773cf2f2c3ca5be075726518&v=1',\n",
       " 'stats_number_of_likes': 18,\n",
       " 'stats_number_of_plays': 6829,\n",
       " 'stats_number_of_comments': 2,\n",
       " 'duration': 143,\n",
       " 'width': 1024,\n",
       " 'height': 576,\n",
       " 'tags': 'belfast, cape town, africa, ireland, film',\n",
       " 'embed_privacy': 'anywhere'}"
      ]
     },
     "execution_count": 18,
     "metadata": {},
     "output_type": "execute_result"
    }
   ],
   "source": [
    "dados"
   ]
  },
  {
   "cell_type": "code",
   "execution_count": 20,
   "id": "fabd1db1-238f-4b9f-a9e4-28dffb46065a",
   "metadata": {},
   "outputs": [
    {
     "name": "stdout",
     "output_type": "stream",
     "text": [
      "Titulo:  The Good Man trailer\n",
      "URL:  https://vimeo.com/57733101\n",
      "Descrição:  Trailer for the Manifesto Films production, The Good Man, now available in UK/Ireland/US/Canada/Australia/New Zealand on iTunes (https://itunes.apple.com/us/movie/the-good-man/id873130906) and DVD (http://www.amazon.co.uk/The-Good-Man-Aiden-Gillen/dp/B00IIK6CGU/). Co-production with Jet Black Entertainment (South Africa). Starring Aidan Gillen, Thabang Sidloyi, Kelly Campbell, Lunathi Mampofu. Written & directed by Phil Harrison. More info at www.thegoodmanfilm.com<br />\n",
      "<br />\n",
      "Check out the Variety Magazine review here: http://www.variety.com/review/VE1117947909/\n",
      "Duração:  143\n",
      "Número de visualizações:  6829\n"
     ]
    }
   ],
   "source": [
    "print('Titulo: ', dados['title'])\n",
    "print('URL: ', dados['url'])\n",
    "print('Descrição: ', dados['description'])\n",
    "print('Duração: ', dados['duration'])\n",
    "print('Número de visualizações: ', dados['stats_number_of_plays'])"
   ]
  },
  {
   "cell_type": "markdown",
   "id": "f31833d2-e598-4e6f-a4b6-e1ab6ee31fa1",
   "metadata": {},
   "source": [
    "### Copiando um arquivo para o outro"
   ]
  },
  {
   "cell_type": "code",
   "execution_count": 26,
   "id": "3ec5703a-8684-422f-a461-bf57c8078acd",
   "metadata": {},
   "outputs": [],
   "source": [
    "arquivo_fonte = 'arquivos/dados.json'\n",
    "arquivo_destino = 'arquivos/dados.txt'"
   ]
  },
  {
   "cell_type": "code",
   "execution_count": 27,
   "id": "c4e58a85-b306-4e00-9528-9fb0bfcba31a",
   "metadata": {},
   "outputs": [],
   "source": [
    "# Metodo 1\n",
    "with open(arquivo_fonte, 'r') as infile:\n",
    "    text = infile.read()\n",
    "    with open(arquivo_destino, 'w') as outfile:\n",
    "        outfile.write(text)"
   ]
  },
  {
   "cell_type": "code",
   "execution_count": 28,
   "id": "854f52ac-643d-4e9d-a1f1-936ca873f55a",
   "metadata": {},
   "outputs": [
    {
     "data": {
      "text/plain": [
       "97"
      ]
     },
     "execution_count": 28,
     "metadata": {},
     "output_type": "execute_result"
    }
   ],
   "source": [
    "# Metodo 2\n",
    "open(arquivo_destino, 'w').write(open(arquivo_fonte, 'r').read())"
   ]
  },
  {
   "cell_type": "code",
   "execution_count": 29,
   "id": "d95cffb1-25cc-41c4-bfdc-8f7f63b8dc15",
   "metadata": {},
   "outputs": [
    {
     "ename": "AttributeError",
     "evalue": "'str' object has no attribute 'read'",
     "output_type": "error",
     "traceback": [
      "\u001b[0;31m---------------------------------------------------------------------------\u001b[0m",
      "\u001b[0;31mAttributeError\u001b[0m                            Traceback (most recent call last)",
      "Cell \u001b[0;32mIn[29], line 4\u001b[0m\n\u001b[1;32m      2\u001b[0m \u001b[38;5;28;01mwith\u001b[39;00m \u001b[38;5;28mopen\u001b[39m(\u001b[38;5;124m'\u001b[39m\u001b[38;5;124marquivos/dados.txt\u001b[39m\u001b[38;5;124m'\u001b[39m, \u001b[38;5;124m'\u001b[39m\u001b[38;5;124mr\u001b[39m\u001b[38;5;124m'\u001b[39m) \u001b[38;5;28;01mas\u001b[39;00m arquivo:\n\u001b[1;32m      3\u001b[0m     texto \u001b[38;5;241m=\u001b[39m arquivo\u001b[38;5;241m.\u001b[39mread()\n\u001b[0;32m----> 4\u001b[0m     dados \u001b[38;5;241m=\u001b[39m json\u001b[38;5;241m.\u001b[39mload(texto)\n",
      "File \u001b[0;32m~/anaconda3/lib/python3.12/json/__init__.py:293\u001b[0m, in \u001b[0;36mload\u001b[0;34m(fp, cls, object_hook, parse_float, parse_int, parse_constant, object_pairs_hook, **kw)\u001b[0m\n\u001b[1;32m    274\u001b[0m \u001b[38;5;28;01mdef\u001b[39;00m \u001b[38;5;21mload\u001b[39m(fp, \u001b[38;5;241m*\u001b[39m, \u001b[38;5;28mcls\u001b[39m\u001b[38;5;241m=\u001b[39m\u001b[38;5;28;01mNone\u001b[39;00m, object_hook\u001b[38;5;241m=\u001b[39m\u001b[38;5;28;01mNone\u001b[39;00m, parse_float\u001b[38;5;241m=\u001b[39m\u001b[38;5;28;01mNone\u001b[39;00m,\n\u001b[1;32m    275\u001b[0m         parse_int\u001b[38;5;241m=\u001b[39m\u001b[38;5;28;01mNone\u001b[39;00m, parse_constant\u001b[38;5;241m=\u001b[39m\u001b[38;5;28;01mNone\u001b[39;00m, object_pairs_hook\u001b[38;5;241m=\u001b[39m\u001b[38;5;28;01mNone\u001b[39;00m, \u001b[38;5;241m*\u001b[39m\u001b[38;5;241m*\u001b[39mkw):\n\u001b[1;32m    276\u001b[0m \u001b[38;5;250m    \u001b[39m\u001b[38;5;124;03m\"\"\"Deserialize ``fp`` (a ``.read()``-supporting file-like object containing\u001b[39;00m\n\u001b[1;32m    277\u001b[0m \u001b[38;5;124;03m    a JSON document) to a Python object.\u001b[39;00m\n\u001b[1;32m    278\u001b[0m \n\u001b[0;32m   (...)\u001b[0m\n\u001b[1;32m    291\u001b[0m \u001b[38;5;124;03m    kwarg; otherwise ``JSONDecoder`` is used.\u001b[39;00m\n\u001b[1;32m    292\u001b[0m \u001b[38;5;124;03m    \"\"\"\u001b[39;00m\n\u001b[0;32m--> 293\u001b[0m     \u001b[38;5;28;01mreturn\u001b[39;00m loads(fp\u001b[38;5;241m.\u001b[39mread(),\n\u001b[1;32m    294\u001b[0m         \u001b[38;5;28mcls\u001b[39m\u001b[38;5;241m=\u001b[39m\u001b[38;5;28mcls\u001b[39m, object_hook\u001b[38;5;241m=\u001b[39mobject_hook,\n\u001b[1;32m    295\u001b[0m         parse_float\u001b[38;5;241m=\u001b[39mparse_float, parse_int\u001b[38;5;241m=\u001b[39mparse_int,\n\u001b[1;32m    296\u001b[0m         parse_constant\u001b[38;5;241m=\u001b[39mparse_constant, object_pairs_hook\u001b[38;5;241m=\u001b[39mobject_pairs_hook, \u001b[38;5;241m*\u001b[39m\u001b[38;5;241m*\u001b[39mkw)\n",
      "\u001b[0;31mAttributeError\u001b[0m: 'str' object has no attribute 'read'"
     ]
    }
   ],
   "source": [
    "# Deu erro mas teóricamente está correto\n",
    "with open('arquivos/dados.txt', 'r') as arquivo:\n",
    "    texto = arquivo.read()\n",
    "    dados = json.load(texto)"
   ]
  },
  {
   "cell_type": "code",
   "execution_count": null,
   "id": "c3df7950-65a1-4751-93fc-cb478e28774e",
   "metadata": {},
   "outputs": [],
   "source": []
  }
 ],
 "metadata": {
  "kernelspec": {
   "display_name": "Python 3 (ipykernel)",
   "language": "python",
   "name": "python3"
  },
  "language_info": {
   "codemirror_mode": {
    "name": "ipython",
    "version": 3
   },
   "file_extension": ".py",
   "mimetype": "text/x-python",
   "name": "python",
   "nbconvert_exporter": "python",
   "pygments_lexer": "ipython3",
   "version": "3.12.7"
  }
 },
 "nbformat": 4,
 "nbformat_minor": 5
}
