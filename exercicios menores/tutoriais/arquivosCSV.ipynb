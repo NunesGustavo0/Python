{
 "cells": [
  {
   "cell_type": "markdown",
   "id": "c9b9d969-73e7-45b4-a58d-dccd3fafedb9",
   "metadata": {},
   "source": [
    "# Manipulando arquivos CSV\n",
    "## CSV(Comma-Separeted Values)"
   ]
  },
  {
   "cell_type": "code",
   "execution_count": 3,
   "id": "82249abf-cf9a-41bc-8124-f8a2f86159a6",
   "metadata": {},
   "outputs": [],
   "source": [
    "# Importando o mudlo CSV\n",
    "import csv"
   ]
  },
  {
   "cell_type": "code",
   "execution_count": 9,
   "id": "c1912a97-db07-442f-a0bf-e8989b8765d6",
   "metadata": {},
   "outputs": [],
   "source": [
    "with open('arquivos/numeros.csv', 'w') as arquivo:\n",
    "    # Cria o objeto de gravação\n",
    "    writer = csv.writer(arquivo)\n",
    "\n",
    "    # Grava no arquivo linha a linha\n",
    "    writer.writerow(('nota1', 'nota2', 'nota3'))\n",
    "    writer.writerow((32,65,98))\n",
    "    writer.writerow((56,78,62))\n",
    "    writer.writerow((64,92,37))"
   ]
  },
  {
   "cell_type": "code",
   "execution_count": 11,
   "id": "bc81aa6d-bfb9-4396-818b-3fc1fcad26de",
   "metadata": {},
   "outputs": [
    {
     "name": "stdout",
     "output_type": "stream",
     "text": [
      "['nota1', 'nota2', 'nota3']\n",
      "['32', '65', '98']\n",
      "['56', '78', '62']\n",
      "['64', '92', '37']\n"
     ]
    }
   ],
   "source": [
    "# Leitura dos arquivos CSV\n",
    "with open('arquivos/numeros.csv', 'r', encoding='utf8', newline='\\r\\n') as arquivo: #Ler sobre utf8 e newline no material complementar\n",
    "    leitor = csv.reader(arquivo)\n",
    "    for x in leitor:\n",
    "        print(x)"
   ]
  },
  {
   "cell_type": "code",
   "execution_count": 13,
   "id": "a1b5416c-8a6a-4fe1-8044-ba54d9bf867f",
   "metadata": {},
   "outputs": [],
   "source": [
    "# Gerando uma lista com dados csv\n",
    "with open('arquivos/numeros.csv', 'r') as arquivo:\n",
    "    leitor = csv.reader(arquivo)\n",
    "    dados = list(leitor)"
   ]
  },
  {
   "cell_type": "code",
   "execution_count": 14,
   "id": "f2b8e901-82ec-4220-93b2-b48421896d35",
   "metadata": {},
   "outputs": [
    {
     "name": "stdout",
     "output_type": "stream",
     "text": [
      "[['nota1', 'nota2', 'nota3'], ['32', '65', '98'], ['56', '78', '62'], ['64', '92', '37']]\n"
     ]
    }
   ],
   "source": [
    "print(dados)"
   ]
  },
  {
   "cell_type": "code",
   "execution_count": 15,
   "id": "14ee3d8a-809e-4e70-b65a-a27fa297d7e1",
   "metadata": {},
   "outputs": [
    {
     "name": "stdout",
     "output_type": "stream",
     "text": [
      "['32', '65', '98']\n",
      "['56', '78', '62']\n",
      "['64', '92', '37']\n"
     ]
    }
   ],
   "source": [
    "for linha in dados[1:]:\n",
    "    print(linha)"
   ]
  },
  {
   "cell_type": "code",
   "execution_count": null,
   "id": "74669ecc-c2bb-4b65-9be9-65a890f4acd9",
   "metadata": {},
   "outputs": [],
   "source": []
  }
 ],
 "metadata": {
  "kernelspec": {
   "display_name": "Python 3 (ipykernel)",
   "language": "python",
   "name": "python3"
  },
  "language_info": {
   "codemirror_mode": {
    "name": "ipython",
    "version": 3
   },
   "file_extension": ".py",
   "mimetype": "text/x-python",
   "name": "python",
   "nbconvert_exporter": "python",
   "pygments_lexer": "ipython3",
   "version": "3.12.7"
  }
 },
 "nbformat": 4,
 "nbformat_minor": 5
}
