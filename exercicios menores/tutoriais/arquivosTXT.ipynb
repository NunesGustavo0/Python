{
 "cells": [
  {
   "cell_type": "code",
   "execution_count": 1,
   "id": "e690a45d-49ba-4e80-ac51-439c025b1ed7",
   "metadata": {},
   "outputs": [],
   "source": [
    "text = 'Data science os so cool!\\n'\n",
    "text = text + 'Until now i really like'\n",
    "text += ', but is a little dificult'"
   ]
  },
  {
   "cell_type": "code",
   "execution_count": 2,
   "id": "f2dab13e-f52f-468f-8f3c-59f854334bf9",
   "metadata": {},
   "outputs": [
    {
     "name": "stdout",
     "output_type": "stream",
     "text": [
      "Data science os so cool!\n",
      "Until now i really like, but is a little dificult\n"
     ]
    }
   ],
   "source": [
    "print(text)"
   ]
  },
  {
   "cell_type": "code",
   "execution_count": 3,
   "id": "61905538-5fab-48c2-8cb9-b5059d355d29",
   "metadata": {},
   "outputs": [],
   "source": [
    "## Pacote os = sistema operacional\n",
    "import os"
   ]
  },
  {
   "cell_type": "code",
   "execution_count": 4,
   "id": "c1740fe9-f08f-472f-8f91-68d830b19ef3",
   "metadata": {},
   "outputs": [],
   "source": [
    "# Abrindo um arquivo para gravação\n",
    "# Arquivo sera aberto a partir da função join do os\n",
    "archive = open(os.path.join('arquivos/cientistas.txt'), 'w')"
   ]
  },
  {
   "cell_type": "code",
   "execution_count": 8,
   "id": "e1c4c4a1-439a-448d-bb0b-af04b5dea75b",
   "metadata": {},
   "outputs": [],
   "source": [
    "for palavra in text.split(): ## Quando não coloca nada ele faz o split pelo espaço\n",
    "    archive.write(palavra + ' ')"
   ]
  },
  {
   "cell_type": "code",
   "execution_count": 9,
   "id": "ff392c2a-4780-46c5-ae74-ee059471d443",
   "metadata": {},
   "outputs": [],
   "source": [
    "archive.close()"
   ]
  },
  {
   "cell_type": "code",
   "execution_count": 10,
   "id": "75002036-15ac-4aa4-9e0c-7be6180d7df4",
   "metadata": {},
   "outputs": [],
   "source": [
    "archive = open('arquivos/cientistas.txt', 'r')\n",
    "conteudo = archive.read()\n",
    "archive.close()"
   ]
  },
  {
   "cell_type": "code",
   "execution_count": 13,
   "id": "edfd25b2-953b-46bc-99e4-4d225daf86d0",
   "metadata": {},
   "outputs": [
    {
     "name": "stdout",
     "output_type": "stream",
     "text": [
      "Data science os so cool! Until now i really like, but is a little dificult \n"
     ]
    }
   ],
   "source": [
    "print(conteudo)"
   ]
  },
  {
   "cell_type": "code",
   "execution_count": 14,
   "id": "b2d8b214-398f-4745-bf11-bb31a27536bd",
   "metadata": {},
   "outputs": [],
   "source": [
    "## Função with, o metodo close é executado automaticamente"
   ]
  },
  {
   "cell_type": "code",
   "execution_count": 15,
   "id": "92a5aa18-c290-4c7c-9982-7817a238e821",
   "metadata": {},
   "outputs": [],
   "source": [
    "with open('arquivos/cientistas.txt', 'r') as arquivo:\n",
    "    conteudo = arquivo.read()"
   ]
  },
  {
   "cell_type": "code",
   "execution_count": 16,
   "id": "2dfd556f-3272-43a4-b6e2-33010cebfef5",
   "metadata": {},
   "outputs": [
    {
     "name": "stdout",
     "output_type": "stream",
     "text": [
      "75\n"
     ]
    }
   ],
   "source": [
    "print(len(conteudo))"
   ]
  },
  {
   "cell_type": "code",
   "execution_count": 17,
   "id": "a942d49a-4334-408d-b90d-82d039bfbf24",
   "metadata": {},
   "outputs": [
    {
     "name": "stdout",
     "output_type": "stream",
     "text": [
      "Data science os so cool! Until now i really like, but is a little dificult \n"
     ]
    }
   ],
   "source": [
    "print(conteudo)"
   ]
  },
  {
   "cell_type": "code",
   "execution_count": 20,
   "id": "8e4615dd-4afd-46d5-af65-dc194eda62b5",
   "metadata": {},
   "outputs": [],
   "source": [
    "texto = \"\"\n",
    "with open('arquivos/cientistas.txt', 'w') as arquivo:\n",
    "    arquivo.write(texto[:19])\n",
    "    arquivo.write(\"/n\")\n",
    "    arquivo.write(texto[29:61])"
   ]
  },
  {
   "cell_type": "code",
   "execution_count": null,
   "id": "f3d1b163-68be-4d98-a082-f5a5bbe77ab9",
   "metadata": {},
   "outputs": [],
   "source": [
    "with open('arquivos/cientistas.txt', 'r') as arquivo:\n",
    "    "
   ]
  }
 ],
 "metadata": {
  "kernelspec": {
   "display_name": "Python 3 (ipykernel)",
   "language": "python",
   "name": "python3"
  },
  "language_info": {
   "codemirror_mode": {
    "name": "ipython",
    "version": 3
   },
   "file_extension": ".py",
   "mimetype": "text/x-python",
   "name": "python",
   "nbconvert_exporter": "python",
   "pygments_lexer": "ipython3",
   "version": "3.12.7"
  }
 },
 "nbformat": 4,
 "nbformat_minor": 5
}
