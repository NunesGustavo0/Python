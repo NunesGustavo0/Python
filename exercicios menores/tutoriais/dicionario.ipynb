{
 "cells": [
  {
   "cell_type": "code",
   "execution_count": 2,
   "id": "363645fe-95eb-43d7-9acb-15feff633862",
   "metadata": {},
   "outputs": [],
   "source": [
    "list_1 = [\"Gustavo\",18, \"Lucas\",50,\"Andre\",60]"
   ]
  },
  {
   "cell_type": "code",
   "execution_count": 10,
   "id": "93cbd102-8f12-4d5a-b3f0-40fe1103e4f1",
   "metadata": {},
   "outputs": [],
   "source": [
    "estudantes = {\"Gustavo\":18, \"Lucas\":26, \"Andre\":60}"
   ]
  },
  {
   "cell_type": "code",
   "execution_count": 4,
   "id": "6c2dd761-b18d-47ac-8287-7a1277347ebf",
   "metadata": {},
   "outputs": [
    {
     "data": {
      "text/plain": [
       "{'Gustavo': 18, 'Lucas': 26, 'Andre': 60}"
      ]
     },
     "execution_count": 4,
     "metadata": {},
     "output_type": "execute_result"
    }
   ],
   "source": [
    "estudantes"
   ]
  },
  {
   "cell_type": "code",
   "execution_count": 5,
   "id": "c2736ecb-6c25-45f1-b6c0-4abde5018012",
   "metadata": {},
   "outputs": [
    {
     "data": {
      "text/plain": [
       "dict"
      ]
     },
     "execution_count": 5,
     "metadata": {},
     "output_type": "execute_result"
    }
   ],
   "source": [
    "type(estudantes)"
   ]
  },
  {
   "cell_type": "code",
   "execution_count": 3,
   "id": "3127b892-b85c-4f73-a9a7-dda391bc5bfe",
   "metadata": {},
   "outputs": [
    {
     "data": {
      "text/plain": [
       "18"
      ]
     },
     "execution_count": 3,
     "metadata": {},
     "output_type": "execute_result"
    }
   ],
   "source": [
    "estudantes[\"Gustavo\"]"
   ]
  },
  {
   "cell_type": "code",
   "execution_count": 11,
   "id": "7963d91d-0a41-4e6d-8a02-d4c6e4c279e6",
   "metadata": {},
   "outputs": [],
   "source": [
    "## Adiciona novo dado\n",
    "estudantes[\"Marcelo\"] = 23"
   ]
  },
  {
   "cell_type": "code",
   "execution_count": 6,
   "id": "dfc29b40-a49d-4fe0-9ccd-058efc0840d6",
   "metadata": {},
   "outputs": [],
   "source": [
    "estudantes.clear()"
   ]
  },
  {
   "cell_type": "code",
   "execution_count": 13,
   "id": "8037351e-6e72-4cfd-8fb9-123ef477d0f7",
   "metadata": {},
   "outputs": [
    {
     "data": {
      "text/plain": [
       "{'Gustavo': 18, 'Lucas': 26, 'Andre': 60, 'Marcelo': 23}"
      ]
     },
     "execution_count": 13,
     "metadata": {},
     "output_type": "execute_result"
    }
   ],
   "source": [
    "estudantes"
   ]
  },
  {
   "cell_type": "code",
   "execution_count": 14,
   "id": "78158e98-6219-4f0d-96cc-af457fb00295",
   "metadata": {},
   "outputs": [
    {
     "data": {
      "text/plain": [
       "4"
      ]
     },
     "execution_count": 14,
     "metadata": {},
     "output_type": "execute_result"
    }
   ],
   "source": [
    "len(estudantes) ## Cada par conta como um elemento"
   ]
  },
  {
   "cell_type": "code",
   "execution_count": 15,
   "id": "4baef894-afa2-4285-b5f1-ef1414c53c3b",
   "metadata": {},
   "outputs": [
    {
     "data": {
      "text/plain": [
       "dict_keys(['Gustavo', 'Lucas', 'Andre', 'Marcelo'])"
      ]
     },
     "execution_count": 15,
     "metadata": {},
     "output_type": "execute_result"
    }
   ],
   "source": [
    "## Retornar apenas as chaves\n",
    "estudantes.keys()"
   ]
  },
  {
   "cell_type": "code",
   "execution_count": 17,
   "id": "2634922c-f729-4004-86dd-655ef5c5b006",
   "metadata": {},
   "outputs": [
    {
     "data": {
      "text/plain": [
       "dict_values([18, 26, 60, 23])"
      ]
     },
     "execution_count": 17,
     "metadata": {},
     "output_type": "execute_result"
    }
   ],
   "source": [
    "## Return only values\n",
    "estudantes.values()"
   ]
  },
  {
   "cell_type": "code",
   "execution_count": 19,
   "id": "6f6fc03e-ffb9-44e6-abb0-61ee75b37ad4",
   "metadata": {},
   "outputs": [
    {
     "data": {
      "text/plain": [
       "dict_items([('Gustavo', 18), ('Lucas', 26), ('Andre', 60), ('Marcelo', 23)])"
      ]
     },
     "execution_count": 19,
     "metadata": {},
     "output_type": "execute_result"
    }
   ],
   "source": [
    "## Return only items\n",
    "estudantes.items()"
   ]
  },
  {
   "cell_type": "code",
   "execution_count": 20,
   "id": "dcab3812-9425-4800-8cd1-43d940fb7c46",
   "metadata": {},
   "outputs": [],
   "source": [
    "students2 = {\"Janaina\":22, \"Carlos\":30, \"Marcos\":56}"
   ]
  },
  {
   "cell_type": "code",
   "execution_count": 21,
   "id": "86ba0845-95c4-433b-ba15-947c43415cf2",
   "metadata": {},
   "outputs": [],
   "source": [
    "estudantes.update(students2)"
   ]
  },
  {
   "cell_type": "code",
   "execution_count": 22,
   "id": "28c0d2a3-7aac-4247-a274-292a8ae5cb2b",
   "metadata": {},
   "outputs": [
    {
     "data": {
      "text/plain": [
       "{'Gustavo': 18,\n",
       " 'Lucas': 26,\n",
       " 'Andre': 60,\n",
       " 'Marcelo': 23,\n",
       " 'Janaina': 22,\n",
       " 'Carlos': 30,\n",
       " 'Marcos': 56}"
      ]
     },
     "execution_count": 22,
     "metadata": {},
     "output_type": "execute_result"
    }
   ],
   "source": [
    "estudantes"
   ]
  },
  {
   "cell_type": "code",
   "execution_count": 23,
   "id": "9f2d6eec-d8b5-4616-8c26-7948d079f9b2",
   "metadata": {},
   "outputs": [],
   "source": [
    "emptydic = {}"
   ]
  },
  {
   "cell_type": "code",
   "execution_count": 24,
   "id": "ef318949-1422-4f1a-b469-107144c0b4f6",
   "metadata": {},
   "outputs": [],
   "source": [
    "emptydic[\"firts key\"] = 2"
   ]
  },
  {
   "cell_type": "code",
   "execution_count": 27,
   "id": "28ac99e5-2a3a-431f-921a-b1780f1757d4",
   "metadata": {},
   "outputs": [],
   "source": [
    "emptydic[10] = 5"
   ]
  },
  {
   "cell_type": "code",
   "execution_count": 28,
   "id": "859d7c59-488e-4d81-8fa8-efb46ef5d193",
   "metadata": {},
   "outputs": [
    {
     "data": {
      "text/plain": [
       "{'firts key': 2, 10: 5}"
      ]
     },
     "execution_count": 28,
     "metadata": {},
     "output_type": "execute_result"
    }
   ],
   "source": [
    "emptydic"
   ]
  },
  {
   "cell_type": "code",
   "execution_count": 29,
   "id": "e63f7815-e912-4f89-a7c3-bbd9e3bc4130",
   "metadata": {},
   "outputs": [],
   "source": [
    "emptydic[30] = \"Python\""
   ]
  },
  {
   "cell_type": "code",
   "execution_count": 30,
   "id": "7cb0b464-2442-4636-9a97-e90aac2689fa",
   "metadata": {},
   "outputs": [
    {
     "data": {
      "text/plain": [
       "{'firts key': 2, 10: 5, 30: 'Python'}"
      ]
     },
     "execution_count": 30,
     "metadata": {},
     "output_type": "execute_result"
    }
   ],
   "source": [
    "emptydic"
   ]
  },
  {
   "cell_type": "code",
   "execution_count": 43,
   "id": "d130bbc4-a485-48fa-8ba9-e87576b68b2b",
   "metadata": {},
   "outputs": [],
   "source": [
    "emptydic.clear()"
   ]
  },
  {
   "cell_type": "code",
   "execution_count": 34,
   "id": "46515aae-f549-4e9b-a05e-890f0c8fa428",
   "metadata": {},
   "outputs": [],
   "source": [
    "emptydic[\"teste\"] = 30"
   ]
  },
  {
   "cell_type": "code",
   "execution_count": 38,
   "id": "69ffdc52-8ae1-4a52-a137-e8c43c3d7922",
   "metadata": {},
   "outputs": [],
   "source": [
    "emptydic[\"valor\"] = \"teste\""
   ]
  },
  {
   "cell_type": "code",
   "execution_count": 39,
   "id": "f128d754-0e9e-4c7c-98e7-b8145288c5ab",
   "metadata": {},
   "outputs": [
    {
     "data": {
      "text/plain": [
       "{'teste': 60, 'valor': 'teste'}"
      ]
     },
     "execution_count": 39,
     "metadata": {},
     "output_type": "execute_result"
    }
   ],
   "source": [
    "emptydic"
   ]
  },
  {
   "cell_type": "code",
   "execution_count": 37,
   "id": "bba18339-093b-4a69-ab1d-153207e737ac",
   "metadata": {},
   "outputs": [],
   "source": [
    "emptydic[\"teste\"] = 60"
   ]
  },
  {
   "cell_type": "code",
   "execution_count": 44,
   "id": "1815a52e-c227-4dd3-9a38-096df6066ef3",
   "metadata": {},
   "outputs": [],
   "source": [
    "emptydic = {\"firts\":30, \"Second\": [32,20,10,50], \"third\":[\"Gustavo\",\"Nunes\",\"de\",\"Oliveira\"]}"
   ]
  },
  {
   "cell_type": "code",
   "execution_count": 46,
   "id": "b04c1123-3bbc-4113-ad19-4a7b96fb4cf5",
   "metadata": {},
   "outputs": [
    {
     "data": {
      "text/plain": [
       "{'firts': 30,\n",
       " 'Second': [32, 20, 10, 50],\n",
       " 'third': ['Gustavo', 'Nunes', 'de', 'Oliveira']}"
      ]
     },
     "execution_count": 46,
     "metadata": {},
     "output_type": "execute_result"
    }
   ],
   "source": [
    "emptydic"
   ]
  },
  {
   "cell_type": "code",
   "execution_count": 47,
   "id": "58420dff-2a76-4b1d-8c78-796134733f7f",
   "metadata": {},
   "outputs": [
    {
     "data": {
      "text/plain": [
       "['Gustavo', 'Nunes', 'de', 'Oliveira']"
      ]
     },
     "execution_count": 47,
     "metadata": {},
     "output_type": "execute_result"
    }
   ],
   "source": [
    "emptydic[\"third\"]"
   ]
  },
  {
   "cell_type": "code",
   "execution_count": 51,
   "id": "06f9f7f2-a947-48fd-94b6-8b1ca3b7247b",
   "metadata": {},
   "outputs": [
    {
     "data": {
      "text/plain": [
       "40"
      ]
     },
     "execution_count": 51,
     "metadata": {},
     "output_type": "execute_result"
    }
   ],
   "source": [
    "emptydic[\"Second\"][3] - 10"
   ]
  },
  {
   "cell_type": "code",
   "execution_count": 52,
   "id": "e212a5b0-1567-489b-9b1a-20758f388ec4",
   "metadata": {},
   "outputs": [
    {
     "data": {
      "text/plain": [
       "'OLIVEIRA'"
      ]
     },
     "execution_count": 52,
     "metadata": {},
     "output_type": "execute_result"
    }
   ],
   "source": [
    "emptydic[\"third\"][3].upper()"
   ]
  },
  {
   "cell_type": "code",
   "execution_count": 53,
   "id": "57f58bb3-9741-465e-85ed-b36ba64cbcfa",
   "metadata": {},
   "outputs": [],
   "source": [
    "emptydic[\"Second\"][3] -= 10"
   ]
  },
  {
   "cell_type": "code",
   "execution_count": 54,
   "id": "e536668c-2f3a-4a35-b17f-4442ffc8d13b",
   "metadata": {},
   "outputs": [
    {
     "data": {
      "text/plain": [
       "40"
      ]
     },
     "execution_count": 54,
     "metadata": {},
     "output_type": "execute_result"
    }
   ],
   "source": [
    "emptydic[\"Second\"][3]"
   ]
  },
  {
   "cell_type": "code",
   "execution_count": null,
   "id": "0eb30889-01a3-4a23-9e7a-5c2cacab2549",
   "metadata": {},
   "outputs": [],
   "source": [
    "dicioonario = {'one':{'two':2, 'three': 3, 'four':4}, 'five':{}}"
   ]
  }
 ],
 "metadata": {
  "kernelspec": {
   "display_name": "Python 3 (ipykernel)",
   "language": "python",
   "name": "python3"
  },
  "language_info": {
   "codemirror_mode": {
    "name": "ipython",
    "version": 3
   },
   "file_extension": ".py",
   "mimetype": "text/x-python",
   "name": "python",
   "nbconvert_exporter": "python",
   "pygments_lexer": "ipython3",
   "version": "3.12.7"
  }
 },
 "nbformat": 4,
 "nbformat_minor": 5
}
