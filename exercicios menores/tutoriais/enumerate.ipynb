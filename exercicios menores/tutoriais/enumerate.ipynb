{
 "cells": [
  {
   "cell_type": "markdown",
   "id": "f86bfc0a-3500-41cd-bc96-cad0ff9f603e",
   "metadata": {},
   "source": [
    "# Função enumerate\n",
    "A função enumerate retorna os indices associados a cada elemento, é valido lembrar que toda estrutura de dados em python recebe internamente um indice"
   ]
  },
  {
   "cell_type": "code",
   "execution_count": 1,
   "id": "7ca01f17-563e-4944-b727-294377aa8878",
   "metadata": {},
   "outputs": [],
   "source": [
    "lista1 = ['a', 'b', 'c']"
   ]
  },
  {
   "cell_type": "code",
   "execution_count": 5,
   "id": "96e30ba5-c1e0-492f-b3c0-e211fbdc57df",
   "metadata": {},
   "outputs": [
    {
     "data": {
      "text/plain": [
       "[(0, 'a'), (1, 'b'), (2, 'c')]"
      ]
     },
     "execution_count": 5,
     "metadata": {},
     "output_type": "execute_result"
    }
   ],
   "source": [
    "# Retorna sempre dois valores, o indice e o proprio elemento\n",
    "list(enumerate(lista1))"
   ]
  },
  {
   "cell_type": "code",
   "execution_count": 4,
   "id": "ecd7ac3d-c1c3-4c7f-b447-2a085a005442",
   "metadata": {},
   "outputs": [
    {
     "name": "stdout",
     "output_type": "stream",
     "text": [
      "a  possui o indice  0\n",
      "b  possui o indice  1\n",
      "c  possui o indice  2\n"
     ]
    }
   ],
   "source": [
    "for indices, valores in enumerate(lista1):\n",
    "    print(valores, ' possui o indice ', indices)"
   ]
  },
  {
   "cell_type": "code",
   "execution_count": 6,
   "id": "f9b51249-45fe-48f0-badd-327508993022",
   "metadata": {},
   "outputs": [
    {
     "name": "stdout",
     "output_type": "stream",
     "text": [
      "a\n",
      "b\n"
     ]
    }
   ],
   "source": [
    "for indices, valores in enumerate(lista1):\n",
    "    if indices >= 2:\n",
    "        break\n",
    "    else:\n",
    "        print(valores)"
   ]
  },
  {
   "cell_type": "code",
   "execution_count": 7,
   "id": "9e5ac4d9-d9d6-4639-9e02-8bbec146fd2d",
   "metadata": {},
   "outputs": [],
   "source": [
    "lista2 = ['Marketing', 'Banco de dados', 'Pyhton']"
   ]
  },
  {
   "cell_type": "code",
   "execution_count": 9,
   "id": "bc95381d-2753-4742-86c9-0d8d7f36bdea",
   "metadata": {},
   "outputs": [
    {
     "name": "stdout",
     "output_type": "stream",
     "text": [
      "0 Marketing\n",
      "1 Banco de dados\n",
      "2 Pyhton\n"
     ]
    }
   ],
   "source": [
    "for i, item in enumerate(lista2):\n",
    "    print(i, item)"
   ]
  },
  {
   "cell_type": "code",
   "execution_count": 10,
   "id": "5350c77a-dc20-4941-b06e-5080fdd6756c",
   "metadata": {},
   "outputs": [
    {
     "name": "stdout",
     "output_type": "stream",
     "text": [
      "0 C\n",
      "1 i\n",
      "2 e\n",
      "3 n\n",
      "4 c\n",
      "5 i\n",
      "6 a\n",
      "7  \n",
      "8 d\n",
      "9 e\n",
      "10  \n",
      "11 d\n",
      "12 a\n",
      "13 d\n",
      "14 o\n",
      "15 s\n"
     ]
    }
   ],
   "source": [
    "for i, item in enumerate('Ciencia de dados'):\n",
    "    print(i, item)"
   ]
  },
  {
   "cell_type": "code",
   "execution_count": 11,
   "id": "773b5f6c-1945-4d56-a10b-a3b66e7fb8c6",
   "metadata": {},
   "outputs": [
    {
     "name": "stdout",
     "output_type": "stream",
     "text": [
      "0 0\n",
      "1 1\n",
      "2 2\n",
      "3 3\n",
      "4 4\n",
      "5 5\n",
      "6 6\n",
      "7 7\n",
      "8 8\n",
      "9 9\n"
     ]
    }
   ],
   "source": [
    "for i, item in enumerate(range(10)):\n",
    "    print(i, item)"
   ]
  },
  {
   "cell_type": "code",
   "execution_count": null,
   "id": "e4da45aa-194f-4745-a208-95838e2c655e",
   "metadata": {},
   "outputs": [],
   "source": []
  }
 ],
 "metadata": {
  "kernelspec": {
   "display_name": "Python 3 (ipykernel)",
   "language": "python",
   "name": "python3"
  },
  "language_info": {
   "codemirror_mode": {
    "name": "ipython",
    "version": 3
   },
   "file_extension": ".py",
   "mimetype": "text/x-python",
   "name": "python",
   "nbconvert_exporter": "python",
   "pygments_lexer": "ipython3",
   "version": "3.12.7"
  }
 },
 "nbformat": 4,
 "nbformat_minor": 5
}
