{
 "cells": [
  {
   "cell_type": "markdown",
   "id": "64ec6d97-94c7-4b76-a1a6-f9e84b81d9d4",
   "metadata": {},
   "source": [
    "# Função Map\n",
    "Aplica uma determinada função em cada elemento de uma estrutura de dados iterável(como uma lista, uma tupla, ou outro objeto interável)"
   ]
  },
  {
   "cell_type": "code",
   "execution_count": 1,
   "id": "956f93c1-7122-4678-bf37-37dc739d3b86",
   "metadata": {},
   "outputs": [],
   "source": [
    "def potencia(x):\n",
    "    return x ** 2"
   ]
  },
  {
   "cell_type": "code",
   "execution_count": 2,
   "id": "a981f68c-c536-45e2-80f3-4ad71add1d75",
   "metadata": {},
   "outputs": [],
   "source": [
    "lista = [1,2,4,8,16]"
   ]
  },
  {
   "cell_type": "code",
   "execution_count": 3,
   "id": "37a9ec14-3851-49c3-8cc9-fb6f9481fb0b",
   "metadata": {},
   "outputs": [],
   "source": [
    "# Chama a função potencia para cada elemento da lista, depois converte para uma lista\n",
    "lista_dobro = list(map(potencia, lista))"
   ]
  },
  {
   "cell_type": "code",
   "execution_count": 4,
   "id": "40503197-465a-4a64-bbf2-ed31a63e8949",
   "metadata": {},
   "outputs": [
    {
     "name": "stdout",
     "output_type": "stream",
     "text": [
      "[1, 4, 16, 64, 256]\n"
     ]
    }
   ],
   "source": [
    "print(lista_dobro)"
   ]
  },
  {
   "cell_type": "code",
   "execution_count": 5,
   "id": "a6c625a6-915f-48dd-b95a-72e59ecd9eed",
   "metadata": {},
   "outputs": [
    {
     "name": "stdout",
     "output_type": "stream",
     "text": [
      "1\n",
      "4\n",
      "16\n",
      "64\n",
      "256\n"
     ]
    }
   ],
   "source": [
    "for numero in map(potencia, lista):\n",
    "    print(numero)"
   ]
  },
  {
   "cell_type": "code",
   "execution_count": 6,
   "id": "b15814c6-4452-4038-9a2b-ee5340bfaa4c",
   "metadata": {},
   "outputs": [
    {
     "data": {
      "text/plain": [
       "[1, 4, 16, 64, 256]"
      ]
     },
     "execution_count": 6,
     "metadata": {},
     "output_type": "execute_result"
    }
   ],
   "source": [
    "list(map(lambda x: x**2, lista))"
   ]
  },
  {
   "cell_type": "code",
   "execution_count": 7,
   "id": "1de5dc5c-6b71-4d1e-ac13-dd022b895414",
   "metadata": {},
   "outputs": [],
   "source": [
    "# Somando elementos de duas listas\n",
    "a = [1,2,3,4,5]\n",
    "b = [6,7,8,9,10]"
   ]
  },
  {
   "cell_type": "code",
   "execution_count": 8,
   "id": "487ab838-376f-4140-a1c5-b301bc8cd0ae",
   "metadata": {},
   "outputs": [
    {
     "data": {
      "text/plain": [
       "[7, 9, 11, 13, 15]"
      ]
     },
     "execution_count": 8,
     "metadata": {},
     "output_type": "execute_result"
    }
   ],
   "source": [
    "list(map(lambda x,y: x+y, a, b))"
   ]
  },
  {
   "cell_type": "code",
   "execution_count": 9,
   "id": "c7bdb699-2e33-483f-902f-7e410a0f497d",
   "metadata": {},
   "outputs": [],
   "source": [
    "# somando elementos de três listas\n",
    "a = [1,2,3,4,5]\n",
    "b = [6,7,8,9,10]\n",
    "c = [11,12,13,14,15]"
   ]
  },
  {
   "cell_type": "code",
   "execution_count": 10,
   "id": "7e483522-913b-4e62-9686-cc858127f77a",
   "metadata": {},
   "outputs": [
    {
     "data": {
      "text/plain": [
       "[18, 21, 24, 27, 30]"
      ]
     },
     "execution_count": 10,
     "metadata": {},
     "output_type": "execute_result"
    }
   ],
   "source": [
    "list(map(lambda x,y,z: x+y+z, a, b, c))"
   ]
  },
  {
   "cell_type": "code",
   "execution_count": null,
   "id": "9c6d3642-3025-4415-9869-7ad082502a5f",
   "metadata": {},
   "outputs": [],
   "source": []
  }
 ],
 "metadata": {
  "kernelspec": {
   "display_name": "Python 3 (ipykernel)",
   "language": "python",
   "name": "python3"
  },
  "language_info": {
   "codemirror_mode": {
    "name": "ipython",
    "version": 3
   },
   "file_extension": ".py",
   "mimetype": "text/x-python",
   "name": "python",
   "nbconvert_exporter": "python",
   "pygments_lexer": "ipython3",
   "version": "3.12.7"
  }
 },
 "nbformat": 4,
 "nbformat_minor": 5
}
