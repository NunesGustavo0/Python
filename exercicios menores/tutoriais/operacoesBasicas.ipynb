{
 "cells": [
  {
   "cell_type": "code",
   "execution_count": 5,
   "id": "ae769bd4-9931-4236-95ca-d96b226a49b7",
   "metadata": {},
   "outputs": [
    {
     "name": "stdout",
     "output_type": "stream",
     "text": [
      "Hello \n",
      "word!\n",
      "poi\n"
     ]
    }
   ],
   "source": [
    "print(\"Hello \\nword!\")\n",
    "print(\"poi\")"
   ]
  },
  {
   "cell_type": "code",
   "execution_count": 11,
   "id": "edd74c9b-f63f-4de2-9493-2e6b6d19ffbb",
   "metadata": {},
   "outputs": [
    {
     "name": "stdout",
     "output_type": "stream",
     "text": [
      "Eu me chamo: Gustavo "
     ]
    }
   ],
   "source": [
    "print(\"Eu me chamo: Gustavo\", end=' ')"
   ]
  },
  {
   "cell_type": "code",
   "execution_count": 6,
   "id": "397a3ac9-453a-4509-b685-488355e772bc",
   "metadata": {},
   "outputs": [
    {
     "name": "stdout",
     "output_type": "stream",
     "text": [
      "154\n"
     ]
    }
   ],
   "source": [
    "numero = 56+98\n",
    "print(numero)"
   ]
  },
  {
   "cell_type": "code",
   "execution_count": 7,
   "id": "dd30fdfb-7453-4eb2-92a0-afba006ccdca",
   "metadata": {},
   "outputs": [
    {
     "data": {
      "text/plain": [
       "8"
      ]
     },
     "execution_count": 7,
     "metadata": {},
     "output_type": "execute_result"
    }
   ],
   "source": [
    "# Soma\n",
    "4 + 4"
   ]
  },
  {
   "cell_type": "code",
   "execution_count": 8,
   "id": "0e650839-73e3-4bd0-b9bd-02025c80d344",
   "metadata": {},
   "outputs": [
    {
     "data": {
      "text/plain": [
       "0"
      ]
     },
     "execution_count": 8,
     "metadata": {},
     "output_type": "execute_result"
    }
   ],
   "source": [
    "# Subtração\n",
    "4 - 4"
   ]
  },
  {
   "cell_type": "code",
   "execution_count": 9,
   "id": "039d207e-1d84-44a2-b125-0dc870d620ac",
   "metadata": {},
   "outputs": [
    {
     "data": {
      "text/plain": [
       "16"
      ]
     },
     "execution_count": 9,
     "metadata": {},
     "output_type": "execute_result"
    }
   ],
   "source": [
    "# Multiplicação\n",
    "4 * 4"
   ]
  },
  {
   "cell_type": "code",
   "execution_count": 10,
   "id": "95e136a0-d0c4-4deb-8000-66749ef1dba7",
   "metadata": {},
   "outputs": [
    {
     "data": {
      "text/plain": [
       "1.0"
      ]
     },
     "execution_count": 10,
     "metadata": {},
     "output_type": "execute_result"
    }
   ],
   "source": [
    "# Divisão\n",
    "4 / 4"
   ]
  },
  {
   "cell_type": "code",
   "execution_count": 11,
   "id": "3ae43240-3edb-4590-96b5-a7a6a16c9629",
   "metadata": {},
   "outputs": [
    {
     "data": {
      "text/plain": [
       "256"
      ]
     },
     "execution_count": 11,
     "metadata": {},
     "output_type": "execute_result"
    }
   ],
   "source": [
    "# Potencia\n",
    "4 ** 4"
   ]
  },
  {
   "cell_type": "code",
   "execution_count": 12,
   "id": "24661c1f-eec0-408d-9b35-62e6cfe0e367",
   "metadata": {},
   "outputs": [
    {
     "data": {
      "text/plain": [
       "1"
      ]
     },
     "execution_count": 12,
     "metadata": {},
     "output_type": "execute_result"
    }
   ],
   "source": [
    "# Modulo/resto da divisão\n",
    "10 % 3"
   ]
  },
  {
   "cell_type": "markdown",
   "id": "7c52c2b3-3a15-47bf-86ee-a854621659c4",
   "metadata": {},
   "source": [
    "**Função Type**"
   ]
  },
  {
   "cell_type": "code",
   "execution_count": 13,
   "id": "bad4bfeb-56a0-4091-9b15-46477c4f3bfd",
   "metadata": {},
   "outputs": [
    {
     "data": {
      "text/plain": [
       "int"
      ]
     },
     "execution_count": 13,
     "metadata": {},
     "output_type": "execute_result"
    }
   ],
   "source": [
    "type(5)"
   ]
  },
  {
   "cell_type": "code",
   "execution_count": 15,
   "id": "ed6b6ef2-3696-442f-a84e-d11abcecd424",
   "metadata": {},
   "outputs": [
    {
     "data": {
      "text/plain": [
       "float"
      ]
     },
     "execution_count": 15,
     "metadata": {},
     "output_type": "execute_result"
    }
   ],
   "source": [
    "type(5.0)"
   ]
  },
  {
   "cell_type": "code",
   "execution_count": 17,
   "id": "91201316-9614-4f22-b700-8e6031281d1b",
   "metadata": {},
   "outputs": [
    {
     "data": {
      "text/plain": [
       "str"
      ]
     },
     "execution_count": 17,
     "metadata": {},
     "output_type": "execute_result"
    }
   ],
   "source": [
    "type(\"a\")"
   ]
  },
  {
   "cell_type": "code",
   "execution_count": 19,
   "id": "2557a903-5c50-42e5-9d98-367eb14f50d3",
   "metadata": {},
   "outputs": [
    {
     "data": {
      "text/plain": [
       "str"
      ]
     },
     "execution_count": 19,
     "metadata": {},
     "output_type": "execute_result"
    }
   ],
   "source": [
    "n = \"Gustavo\"\n",
    "type(n)"
   ]
  },
  {
   "cell_type": "markdown",
   "id": "17fd5baa-07c7-4fe4-a1de-493f9bce51a9",
   "metadata": {},
   "source": [
    "**Operações com float**"
   ]
  },
  {
   "cell_type": "code",
   "execution_count": 27,
   "id": "2e690463-f4f4-44f9-84d3-83a84640eeab",
   "metadata": {},
   "outputs": [
    {
     "data": {
      "text/plain": [
       "5.6"
      ]
     },
     "execution_count": 27,
     "metadata": {},
     "output_type": "execute_result"
    }
   ],
   "source": [
    "3.5 + 2.1"
   ]
  },
  {
   "cell_type": "code",
   "execution_count": 22,
   "id": "48b11518-358a-49f0-90c3-41bb30590a23",
   "metadata": {},
   "outputs": [
    {
     "data": {
      "text/plain": [
       "1.4"
      ]
     },
     "execution_count": 22,
     "metadata": {},
     "output_type": "execute_result"
    }
   ],
   "source": [
    "3.5 - 2.1"
   ]
  },
  {
   "cell_type": "code",
   "execution_count": 23,
   "id": "288b0296-ce3b-492b-aec1-8cf29ccaae1d",
   "metadata": {},
   "outputs": [
    {
     "data": {
      "text/plain": [
       "5.1"
      ]
     },
     "execution_count": 23,
     "metadata": {},
     "output_type": "execute_result"
    }
   ],
   "source": [
    "3 + 2.1"
   ]
  },
  {
   "cell_type": "code",
   "execution_count": 24,
   "id": "04d1799d-3f8f-41e3-92b7-312ab34b9180",
   "metadata": {},
   "outputs": [
    {
     "data": {
      "text/plain": [
       "5"
      ]
     },
     "execution_count": 24,
     "metadata": {},
     "output_type": "execute_result"
    }
   ],
   "source": [
    "3 + 2"
   ]
  },
  {
   "cell_type": "code",
   "execution_count": 25,
   "id": "16318ef6-18ae-4e1c-bd09-0eed7e2b78c0",
   "metadata": {},
   "outputs": [
    {
     "data": {
      "text/plain": [
       "1.5"
      ]
     },
     "execution_count": 25,
     "metadata": {},
     "output_type": "execute_result"
    }
   ],
   "source": [
    "3 / 2"
   ]
  },
  {
   "cell_type": "code",
   "execution_count": 26,
   "id": "650eec13-e191-4a86-a347-79ff6c841899",
   "metadata": {},
   "outputs": [
    {
     "data": {
      "text/plain": [
       "1"
      ]
     },
     "execution_count": 26,
     "metadata": {},
     "output_type": "execute_result"
    }
   ],
   "source": [
    "3 // 2"
   ]
  },
  {
   "cell_type": "code",
   "execution_count": 28,
   "id": "db745be4-b307-4ab1-b290-5f7dbe2b61ef",
   "metadata": {},
   "outputs": [
    {
     "data": {
      "text/plain": [
       "1.0"
      ]
     },
     "execution_count": 28,
     "metadata": {},
     "output_type": "execute_result"
    }
   ],
   "source": [
    "3 // 2.1"
   ]
  },
  {
   "cell_type": "markdown",
   "id": "409f7c77-afea-4fac-b0f6-d4c954fb2102",
   "metadata": {},
   "source": [
    "**Conversão**"
   ]
  },
  {
   "cell_type": "code",
   "execution_count": 29,
   "id": "9a6c5db5-08b4-4d09-96cc-31201d3331c7",
   "metadata": {},
   "outputs": [
    {
     "data": {
      "text/plain": [
       "9.0"
      ]
     },
     "execution_count": 29,
     "metadata": {},
     "output_type": "execute_result"
    }
   ],
   "source": [
    "float(9)"
   ]
  },
  {
   "cell_type": "code",
   "execution_count": 30,
   "id": "c2791e0d-4fdb-4aae-8e18-0ade2ac6a7a3",
   "metadata": {},
   "outputs": [
    {
     "data": {
      "text/plain": [
       "2"
      ]
     },
     "execution_count": 30,
     "metadata": {},
     "output_type": "execute_result"
    }
   ],
   "source": [
    "int(2.5)"
   ]
  },
  {
   "cell_type": "code",
   "execution_count": 34,
   "id": "9b04c4cd-f17c-40b5-8b3c-ca4b9a89156c",
   "metadata": {},
   "outputs": [
    {
     "data": {
      "text/plain": [
       "'0x18a'"
      ]
     },
     "execution_count": 34,
     "metadata": {},
     "output_type": "execute_result"
    }
   ],
   "source": [
    "# Converter para hexadecimal\n",
    "hex(394)"
   ]
  },
  {
   "cell_type": "code",
   "execution_count": 37,
   "id": "6f540b89-39c3-4eec-8457-cfebd685d11b",
   "metadata": {},
   "outputs": [
    {
     "data": {
      "text/plain": [
       "'0b110001010'"
      ]
     },
     "execution_count": 37,
     "metadata": {},
     "output_type": "execute_result"
    }
   ],
   "source": [
    "# Converter para binario\n",
    "bin(394)"
   ]
  },
  {
   "cell_type": "markdown",
   "id": "c2dfe785-2b07-476a-b05d-9214514c7c1c",
   "metadata": {},
   "source": [
    "**Função abs, round e pow**"
   ]
  },
  {
   "cell_type": "code",
   "execution_count": 38,
   "id": "1ad7dadb-13ae-4ea6-8d3e-80d9be888fd5",
   "metadata": {},
   "outputs": [
    {
     "data": {
      "text/plain": [
       "8"
      ]
     },
     "execution_count": 38,
     "metadata": {},
     "output_type": "execute_result"
    }
   ],
   "source": [
    "# ABS valor absoluto\n",
    "abs(-8)"
   ]
  },
  {
   "cell_type": "code",
   "execution_count": 40,
   "id": "a6a11a34-b712-4c36-b474-514180aebd53",
   "metadata": {},
   "outputs": [
    {
     "data": {
      "text/plain": [
       "8"
      ]
     },
     "execution_count": 40,
     "metadata": {},
     "output_type": "execute_result"
    }
   ],
   "source": [
    "abs(8)"
   ]
  },
  {
   "cell_type": "code",
   "execution_count": 45,
   "id": "b4fc83d9-974c-44ad-81c3-28d623b010ee",
   "metadata": {},
   "outputs": [
    {
     "data": {
      "text/plain": [
       "3.55"
      ]
     },
     "execution_count": 45,
     "metadata": {},
     "output_type": "execute_result"
    }
   ],
   "source": [
    "# Arendondar\n",
    "round(3.5468456, 2)"
   ]
  },
  {
   "cell_type": "code",
   "execution_count": 43,
   "id": "ce88618e-b012-410d-a818-0341e32e3f37",
   "metadata": {},
   "outputs": [
    {
     "data": {
      "text/plain": [
       "32"
      ]
     },
     "execution_count": 43,
     "metadata": {},
     "output_type": "execute_result"
    }
   ],
   "source": [
    "pow(2,5)"
   ]
  },
  {
   "cell_type": "code",
   "execution_count": 44,
   "id": "9c6834ac-d064-4e73-8cf2-b165074ad600",
   "metadata": {},
   "outputs": [
    {
     "data": {
      "text/plain": [
       "4"
      ]
     },
     "execution_count": 44,
     "metadata": {},
     "output_type": "execute_result"
    }
   ],
   "source": [
    "pow(2,2)"
   ]
  },
  {
   "cell_type": "code",
   "execution_count": 1,
   "id": "15b24fcd-f781-4799-a8ed-ebd4e18fec1c",
   "metadata": {},
   "outputs": [],
   "source": [
    "var_teste = 1"
   ]
  },
  {
   "cell_type": "code",
   "execution_count": 2,
   "id": "eb367f92-582f-4a67-af59-e706e1f51597",
   "metadata": {},
   "outputs": [
    {
     "data": {
      "text/plain": [
       "1"
      ]
     },
     "execution_count": 2,
     "metadata": {},
     "output_type": "execute_result"
    }
   ],
   "source": [
    "var_teste"
   ]
  },
  {
   "cell_type": "code",
   "execution_count": 3,
   "id": "955250e6-d82f-40d5-b25f-c898238f7e34",
   "metadata": {},
   "outputs": [
    {
     "name": "stdout",
     "output_type": "stream",
     "text": [
      "1\n"
     ]
    }
   ],
   "source": [
    "print(var_teste)"
   ]
  },
  {
   "cell_type": "code",
   "execution_count": 4,
   "id": "59bbcaf1-afc8-42a5-b863-86ade70e8ef2",
   "metadata": {},
   "outputs": [
    {
     "data": {
      "text/plain": [
       "int"
      ]
     },
     "execution_count": 4,
     "metadata": {},
     "output_type": "execute_result"
    }
   ],
   "source": [
    "type(var_teste)"
   ]
  },
  {
   "cell_type": "code",
   "execution_count": 5,
   "id": "298a746c-5402-4ccf-a9d7-afb3450aba54",
   "metadata": {},
   "outputs": [],
   "source": [
    "primeiro, segundo, terceiro = \"1\", \"2\", \"3\""
   ]
  },
  {
   "cell_type": "code",
   "execution_count": 6,
   "id": "0babbc3b-04a7-4a12-89d9-e287f5f5cd00",
   "metadata": {},
   "outputs": [
    {
     "data": {
      "text/plain": [
       "('1', '2', '3')"
      ]
     },
     "execution_count": 6,
     "metadata": {},
     "output_type": "execute_result"
    }
   ],
   "source": [
    "primeiro, segundo, terceiro"
   ]
  },
  {
   "cell_type": "code",
   "execution_count": 3,
   "id": "dfc7af37-a084-40f7-977d-c1e2829c0faf",
   "metadata": {},
   "outputs": [],
   "source": [
    "fruta1 = fruta2 = fruta3 = \"melancia\""
   ]
  },
  {
   "cell_type": "code",
   "execution_count": 4,
   "id": "3e4423a8-c321-4016-bf3a-a38d5543becf",
   "metadata": {},
   "outputs": [
    {
     "data": {
      "text/plain": [
       "('melancia', 'melancia', 'melancia')"
      ]
     },
     "execution_count": 4,
     "metadata": {},
     "output_type": "execute_result"
    }
   ],
   "source": [
    "fruta1, fruta2, fruta3"
   ]
  },
  {
   "cell_type": "code",
   "execution_count": 5,
   "id": "41b0def1-5a99-4476-bf21-21768795af59",
   "metadata": {},
   "outputs": [],
   "source": [
    "area = fruta1 + \" \" + fruta2"
   ]
  },
  {
   "cell_type": "code",
   "execution_count": 6,
   "id": "89683c1e-fee8-4c5f-8c50-12a166d01aba",
   "metadata": {},
   "outputs": [
    {
     "data": {
      "text/plain": [
       "'melancia melancia'"
      ]
     },
     "execution_count": 6,
     "metadata": {},
     "output_type": "execute_result"
    }
   ],
   "source": [
    "area"
   ]
  },
  {
   "cell_type": "code",
   "execution_count": 21,
   "id": "be7e3b6c-9db5-4f81-a7f5-3ad52a25c134",
   "metadata": {},
   "outputs": [
    {
     "data": {
      "text/plain": [
       "'m'"
      ]
     },
     "execution_count": 21,
     "metadata": {},
     "output_type": "execute_result"
    }
   ],
   "source": [
    "area[0]"
   ]
  },
  {
   "cell_type": "code",
   "execution_count": 22,
   "id": "9aadb873-aa35-497e-a051-8505a7aad92a",
   "metadata": {},
   "outputs": [
    {
     "data": {
      "text/plain": [
       "'e'"
      ]
     },
     "execution_count": 22,
     "metadata": {},
     "output_type": "execute_result"
    }
   ],
   "source": [
    "area[1]"
   ]
  },
  {
   "cell_type": "code",
   "execution_count": 23,
   "id": "1cddb2b2-e3ff-440d-be72-2ef4a723404e",
   "metadata": {},
   "outputs": [
    {
     "name": "stdout",
     "output_type": "stream",
     "text": [
      "l\n"
     ]
    }
   ],
   "source": [
    "print(area[2])"
   ]
  },
  {
   "cell_type": "code",
   "execution_count": 24,
   "id": "a486ab08-73c3-457e-9608-10fd090f6de1",
   "metadata": {},
   "outputs": [
    {
     "data": {
      "text/plain": [
       "'elancia melancia'"
      ]
     },
     "execution_count": 24,
     "metadata": {},
     "output_type": "execute_result"
    }
   ],
   "source": [
    "# Printa tudo a partir do indice\n",
    "area[1:]"
   ]
  },
  {
   "cell_type": "code",
   "execution_count": 26,
   "id": "b911ea69-a1d4-42f0-93c3-71e40bbbe1b4",
   "metadata": {},
   "outputs": [
    {
     "data": {
      "text/plain": [
       "'melan'"
      ]
     },
     "execution_count": 26,
     "metadata": {},
     "output_type": "execute_result"
    }
   ],
   "source": [
    "# Printa tudo até o indice\n",
    "area[:5]"
   ]
  },
  {
   "cell_type": "code",
   "execution_count": 29,
   "id": "6715abc1-5974-4047-95fa-24335c193941",
   "metadata": {},
   "outputs": [
    {
     "data": {
      "text/plain": [
       "'a'"
      ]
     },
     "execution_count": 29,
     "metadata": {},
     "output_type": "execute_result"
    }
   ],
   "source": [
    "# printao caracter do indice ao contrario\n",
    "area[-1]"
   ]
  },
  {
   "cell_type": "code",
   "execution_count": 32,
   "id": "e44657d0-c411-4577-a988-923a23a044f1",
   "metadata": {},
   "outputs": [
    {
     "data": {
      "text/plain": [
       "'melancia melanci'"
      ]
     },
     "execution_count": 32,
     "metadata": {},
     "output_type": "execute_result"
    }
   ],
   "source": [
    "# printa tudo, exceto a ultima letra\n",
    "area[:-1]"
   ]
  },
  {
   "cell_type": "code",
   "execution_count": 36,
   "id": "d8884e5d-3c13-4c1b-9a9f-95ead72183b5",
   "metadata": {},
   "outputs": [
    {
     "data": {
      "text/plain": [
       "'melancia melancia'"
      ]
     },
     "execution_count": 36,
     "metadata": {},
     "output_type": "execute_result"
    }
   ],
   "source": [
    "# So retorna de um em um\n",
    "area[::1]"
   ]
  },
  {
   "cell_type": "code",
   "execution_count": 35,
   "id": "c2a96ca2-cf18-4ba8-b99e-104f287064e8",
   "metadata": {},
   "outputs": [
    {
     "data": {
      "text/plain": [
       "'mlni eaca'"
      ]
     },
     "execution_count": 35,
     "metadata": {},
     "output_type": "execute_result"
    }
   ],
   "source": [
    "# So retorna de dois em dois...\n",
    "area[::2]"
   ]
  },
  {
   "cell_type": "code",
   "execution_count": 38,
   "id": "ffb6a64e-9748-4631-9825-89d044e0cde1",
   "metadata": {},
   "outputs": [
    {
     "data": {
      "text/plain": [
       "'aicnalem aicnalem'"
      ]
     },
     "execution_count": 38,
     "metadata": {},
     "output_type": "execute_result"
    }
   ],
   "source": [
    "# Indexação negativa\n",
    "area[::-1]"
   ]
  },
  {
   "cell_type": "code",
   "execution_count": 7,
   "id": "54b2d35d-4d50-4e2e-8bfe-c618589c217d",
   "metadata": {},
   "outputs": [],
   "source": [
    "s = area * 3"
   ]
  },
  {
   "cell_type": "code",
   "execution_count": 8,
   "id": "97cb2436-d35f-4b37-b578-007ee55d3b77",
   "metadata": {},
   "outputs": [
    {
     "data": {
      "text/plain": [
       "'melancia melanciamelancia melanciamelancia melancia'"
      ]
     },
     "execution_count": 8,
     "metadata": {},
     "output_type": "execute_result"
    }
   ],
   "source": [
    "s"
   ]
  },
  {
   "cell_type": "code",
   "execution_count": 45,
   "id": "2d3f6794-bccb-4e17-a97a-678af3d5a569",
   "metadata": {},
   "outputs": [
    {
     "data": {
      "text/plain": [
       "'melancia melancia'"
      ]
     },
     "execution_count": 45,
     "metadata": {},
     "output_type": "execute_result"
    }
   ],
   "source": [
    "s[:17]"
   ]
  },
  {
   "cell_type": "code",
   "execution_count": 14,
   "id": "71a05a0b-678b-406a-8088-ba119a23124a",
   "metadata": {},
   "outputs": [
    {
     "data": {
      "text/plain": [
       "'MELANCIA MELANCIAMELANCIA MELANCIAMELANCIA MELANCIA'"
      ]
     },
     "execution_count": 14,
     "metadata": {},
     "output_type": "execute_result"
    }
   ],
   "source": [
    "# Passa tudo para maiusculo\n",
    "s.upper()"
   ]
  },
  {
   "cell_type": "code",
   "execution_count": 16,
   "id": "d50aa44a-c21b-4003-bc85-eaa433042ec3",
   "metadata": {},
   "outputs": [
    {
     "data": {
      "text/plain": [
       "'melancia melanciamelancia melanciamelancia melancia'"
      ]
     },
     "execution_count": 16,
     "metadata": {},
     "output_type": "execute_result"
    }
   ],
   "source": [
    "# Passa tudo para minusculo\n",
    "s.lower()"
   ]
  },
  {
   "cell_type": "code",
   "execution_count": 18,
   "id": "9730c3ea-6214-4cef-a3f6-1af15c8ceca3",
   "metadata": {},
   "outputs": [
    {
     "data": {
      "text/plain": [
       "['melancia', 'melanciamelancia', 'melanciamelancia', 'melancia']"
      ]
     },
     "execution_count": 18,
     "metadata": {},
     "output_type": "execute_result"
    }
   ],
   "source": [
    "# Divide\n",
    "s.split()"
   ]
  },
  {
   "cell_type": "code",
   "execution_count": 19,
   "id": "37f68167-e798-4e51-b672-b9508041609f",
   "metadata": {},
   "outputs": [
    {
     "data": {
      "text/plain": [
       "['mel',\n",
       " 'nci',\n",
       " ' mel',\n",
       " 'nci',\n",
       " 'mel',\n",
       " 'nci',\n",
       " ' mel',\n",
       " 'nci',\n",
       " 'mel',\n",
       " 'nci',\n",
       " ' mel',\n",
       " 'nci',\n",
       " '']"
      ]
     },
     "execution_count": 19,
     "metadata": {},
     "output_type": "execute_result"
    }
   ],
   "source": [
    "# Podemos escolher o caracter que ira dividir\n",
    "s.split('a')"
   ]
  },
  {
   "cell_type": "code",
   "execution_count": 22,
   "id": "bce1f1ab-126b-4bad-b7c7-0754cf8fabe6",
   "metadata": {},
   "outputs": [],
   "source": [
    "s = 'por favor Deus me abençoa para passar na prova'"
   ]
  },
  {
   "cell_type": "code",
   "execution_count": 23,
   "id": "5315a35f-a593-4c9f-8828-6732450cd10f",
   "metadata": {},
   "outputs": [
    {
     "data": {
      "text/plain": [
       "'por favor Deus me abençoa para passar na prova'"
      ]
     },
     "execution_count": 23,
     "metadata": {},
     "output_type": "execute_result"
    }
   ],
   "source": [
    "s"
   ]
  },
  {
   "cell_type": "code",
   "execution_count": 24,
   "id": "b593df3e-7620-4534-9ae5-7a1112b89331",
   "metadata": {},
   "outputs": [
    {
     "data": {
      "text/plain": [
       "'Por favor deus me abençoa para passar na prova'"
      ]
     },
     "execution_count": 24,
     "metadata": {},
     "output_type": "execute_result"
    }
   ],
   "source": [
    "# Converte para maiusculo apenas a primeira letra\n",
    "s.capitalize()"
   ]
  },
  {
   "cell_type": "code",
   "execution_count": 25,
   "id": "9bc64a07-7643-48e4-97ce-7103f4b51968",
   "metadata": {},
   "outputs": [
    {
     "data": {
      "text/plain": [
       "9"
      ]
     },
     "execution_count": 25,
     "metadata": {},
     "output_type": "execute_result"
    }
   ],
   "source": [
    "# Conta, nesse caso quantas letras 'a' tem na frase\n",
    "s.count('a')"
   ]
  },
  {
   "cell_type": "code",
   "execution_count": 27,
   "id": "0b77734b-7429-49a5-8974-5b9a7f462ea5",
   "metadata": {},
   "outputs": [
    {
     "data": {
      "text/plain": [
       "False"
      ]
     },
     "execution_count": 27,
     "metadata": {},
     "output_type": "execute_result"
    }
   ],
   "source": [
    "# Verifica se essa string é toda de número\n",
    "s.isalnum()"
   ]
  },
  {
   "cell_type": "code",
   "execution_count": 28,
   "id": "46c6e6c2-cc06-4dd8-9e63-0bcdc30a265d",
   "metadata": {},
   "outputs": [
    {
     "data": {
      "text/plain": [
       "False"
      ]
     },
     "execution_count": 28,
     "metadata": {},
     "output_type": "execute_result"
    }
   ],
   "source": [
    "# Verifica se essa string é toda minuscula\n",
    "s.islower()"
   ]
  },
  {
   "cell_type": "code",
   "execution_count": 29,
   "id": "f0f528bf-5bc6-4fbf-9141-93a95e86c3dc",
   "metadata": {},
   "outputs": [
    {
     "data": {
      "text/plain": [
       "False"
      ]
     },
     "execution_count": 29,
     "metadata": {},
     "output_type": "execute_result"
    }
   ],
   "source": [
    "# VErifica se essa string é toda espaço\n",
    "s.isspace()"
   ]
  },
  {
   "cell_type": "code",
   "execution_count": 31,
   "id": "2fe487a6-765a-4454-87a3-90fb727ddacc",
   "metadata": {},
   "outputs": [
    {
     "data": {
      "text/plain": [
       "True"
      ]
     },
     "execution_count": 31,
     "metadata": {},
     "output_type": "execute_result"
    }
   ],
   "source": [
    "# VErifica se essa string termina com a letra em especifico\n",
    "s.endswith('a')"
   ]
  },
  {
   "cell_type": "code",
   "execution_count": 32,
   "id": "9f0c9bf4-31a2-4097-b66b-a1dc1532daa6",
   "metadata": {},
   "outputs": [],
   "source": [
    "s = ' 1000'"
   ]
  },
  {
   "cell_type": "code",
   "execution_count": 34,
   "id": "e8376a02-bc33-4315-8c61-6324d4806c73",
   "metadata": {},
   "outputs": [
    {
     "data": {
      "text/plain": [
       "str"
      ]
     },
     "execution_count": 34,
     "metadata": {},
     "output_type": "execute_result"
    }
   ],
   "source": [
    "type(s)"
   ]
  },
  {
   "cell_type": "code",
   "execution_count": 35,
   "id": "6d9a7ae2-7f4d-43bd-878a-1b8574a2ee6f",
   "metadata": {},
   "outputs": [
    {
     "name": "stdout",
     "output_type": "stream",
     "text": [
      "False\n"
     ]
    }
   ],
   "source": [
    "print(\"pyhton\" == \"R\")"
   ]
  },
  {
   "cell_type": "code",
   "execution_count": 36,
   "id": "8e23b534-4564-493d-9f0d-d87724a8cea0",
   "metadata": {},
   "outputs": [
    {
     "name": "stdout",
     "output_type": "stream",
     "text": [
      "False\n"
     ]
    }
   ],
   "source": [
    "print(\"pyhton\" == \"python\")"
   ]
  },
  {
   "cell_type": "code",
   "execution_count": null,
   "id": "560098d7-927c-45e1-b0ce-8a61fc7617a4",
   "metadata": {},
   "outputs": [],
   "source": []
  }
 ],
 "metadata": {
  "kernelspec": {
   "display_name": "Python 3 (ipykernel)",
   "language": "python",
   "name": "python3"
  },
  "language_info": {
   "codemirror_mode": {
    "name": "ipython",
    "version": 3
   },
   "file_extension": ".py",
   "mimetype": "text/x-python",
   "name": "python",
   "nbconvert_exporter": "python",
   "pygments_lexer": "ipython3",
   "version": "3.12.7"
  }
 },
 "nbformat": 4,
 "nbformat_minor": 5
}
