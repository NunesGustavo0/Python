{
 "cells": [
  {
   "cell_type": "code",
   "execution_count": null,
   "id": "315e6d0d-f5d8-4f17-a8a1-c5a9b9301048",
   "metadata": {},
   "outputs": [],
   "source": []
  }
 ],
 "metadata": {
  "kernelspec": {
   "display_name": "",
   "name": ""
  },
  "language_info": {
   "name": ""
  }
 },
 "nbformat": 4,
 "nbformat_minor": 5
}
