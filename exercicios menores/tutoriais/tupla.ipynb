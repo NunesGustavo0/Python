{
 "cells": [
  {
   "cell_type": "code",
   "execution_count": 1,
   "id": "d2cba48f-faa9-4eec-b4fe-0bcc73fb93e1",
   "metadata": {},
   "outputs": [],
   "source": [
    "tupla = ('Brasil', 23, 'França', 6, 'China', 5)"
   ]
  },
  {
   "cell_type": "code",
   "execution_count": 2,
   "id": "d3f57c81-75d0-4a96-8d80-27b8c55ff615",
   "metadata": {},
   "outputs": [],
   "source": [
    "## Tupla é imutavel, não pode ser mudada, normalmente se utiliza em parametros e valores que não devem ser alterados"
   ]
  },
  {
   "cell_type": "code",
   "execution_count": 4,
   "id": "ee7b4384-adc2-4925-ba9e-cff27034dd24",
   "metadata": {},
   "outputs": [],
   "source": [
    "lista = [30,20,10,50]"
   ]
  },
  {
   "cell_type": "code",
   "execution_count": 8,
   "id": "e5543024-dabb-4aca-8e96-b912d4aa45d1",
   "metadata": {},
   "outputs": [],
   "source": [
    "## Convrete lista para tupla\n",
    "t2 = tuple(lista)"
   ]
  },
  {
   "cell_type": "code",
   "execution_count": 9,
   "id": "14e0cf18-ead0-40e9-a383-004cc9ea5322",
   "metadata": {},
   "outputs": [
    {
     "data": {
      "text/plain": [
       "(30, 20, 10, 50)"
      ]
     },
     "execution_count": 9,
     "metadata": {},
     "output_type": "execute_result"
    }
   ],
   "source": [
    "t2"
   ]
  },
  {
   "cell_type": "code",
   "execution_count": null,
   "id": "32df08f4-d7b7-40d0-8e01-935f53a14882",
   "metadata": {},
   "outputs": [],
   "source": []
  }
 ],
 "metadata": {
  "kernelspec": {
   "display_name": "Python 3 (ipykernel)",
   "language": "python",
   "name": "python3"
  },
  "language_info": {
   "codemirror_mode": {
    "name": "ipython",
    "version": 3
   },
   "file_extension": ".py",
   "mimetype": "text/x-python",
   "name": "python",
   "nbconvert_exporter": "python",
   "pygments_lexer": "ipython3",
   "version": "3.12.7"
  }
 },
 "nbformat": 4,
 "nbformat_minor": 5
}
