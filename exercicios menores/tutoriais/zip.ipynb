{
 "cells": [
  {
   "cell_type": "markdown",
   "id": "579e470a-eb93-4fb3-8e21-3038cb9da82d",
   "metadata": {},
   "source": [
    "# Zip\n",
    "A função zip agrupa elementos de multiplas estruturas de dados iteráveis(como lista, tupla, etc).\n",
    "O zip junta(não soma) cada elemento de uma ED iterável"
   ]
  },
  {
   "cell_type": "code",
   "execution_count": 1,
   "id": "22a61941-c5e8-4fec-925e-a92745491bff",
   "metadata": {},
   "outputs": [],
   "source": [
    "lista1 = [1,2,3]\n",
    "lista2 = [4,5,6]"
   ]
  },
  {
   "cell_type": "code",
   "execution_count": 2,
   "id": "330cd654-8a2d-4001-af99-4246a98e12f9",
   "metadata": {},
   "outputs": [
    {
     "data": {
      "text/plain": [
       "[(1, 4), (2, 5), (3, 6)]"
      ]
     },
     "execution_count": 2,
     "metadata": {},
     "output_type": "execute_result"
    }
   ],
   "source": [
    "list(zip(lista1, lista2))"
   ]
  },
  {
   "cell_type": "code",
   "execution_count": 4,
   "id": "8b3e68e7-6392-464b-935f-7beae41d5fae",
   "metadata": {},
   "outputs": [
    {
     "data": {
      "text/plain": [
       "[('A', 'x'), ('B', 'y')]"
      ]
     },
     "execution_count": 4,
     "metadata": {},
     "output_type": "execute_result"
    }
   ],
   "source": [
    "# Zip retorna a combianção, oque não combina ela descarta\n",
    "list(zip('ABCD', 'xy'))"
   ]
  },
  {
   "cell_type": "code",
   "execution_count": 5,
   "id": "6b330486-1904-45b3-a8ce-8eeaa8bbe8e9",
   "metadata": {},
   "outputs": [],
   "source": [
    "a = [1,2,3,4,5]\n",
    "b = ['a','b','c']"
   ]
  },
  {
   "cell_type": "code",
   "execution_count": 6,
   "id": "208c2f3d-dc1e-4426-807c-14ee9ad9c0f3",
   "metadata": {},
   "outputs": [
    {
     "data": {
      "text/plain": [
       "[(1, 'a'), (2, 'b'), (3, 'c')]"
      ]
     },
     "execution_count": 6,
     "metadata": {},
     "output_type": "execute_result"
    }
   ],
   "source": [
    "list(zip(a,b))"
   ]
  },
  {
   "cell_type": "code",
   "execution_count": 7,
   "id": "d7ed6c05-51b0-4a04-bfbf-e59aba6726b0",
   "metadata": {},
   "outputs": [],
   "source": [
    "dic1 = {'a':1, 'b':2, 'c':3}\n",
    "dic2 = {'d':4,'e':5,'f':6}"
   ]
  },
  {
   "cell_type": "code",
   "execution_count": 9,
   "id": "8a2ae2d4-c2e1-403b-95f2-0bac60c3caf7",
   "metadata": {},
   "outputs": [
    {
     "data": {
      "text/plain": [
       "[('a', 'd'), ('b', 'e'), ('c', 'f')]"
      ]
     },
     "execution_count": 9,
     "metadata": {},
     "output_type": "execute_result"
    }
   ],
   "source": [
    "# Combina as chaves\n",
    "list(zip(dic1,dic2))"
   ]
  },
  {
   "cell_type": "code",
   "execution_count": 10,
   "id": "c4d1b804-7067-4f00-ad43-7fdd0f9ed5ae",
   "metadata": {},
   "outputs": [
    {
     "data": {
      "text/plain": [
       "[('a', 4), ('b', 5), ('c', 6)]"
      ]
     },
     "execution_count": 10,
     "metadata": {},
     "output_type": "execute_result"
    }
   ],
   "source": [
    "list(zip(dic1, dic2.values()))"
   ]
  },
  {
   "cell_type": "code",
   "execution_count": 13,
   "id": "613c4c20-982e-465f-959c-b1d99b5748ca",
   "metadata": {},
   "outputs": [],
   "source": [
    "def trocaValores(d1, d2):\n",
    "\n",
    "    dicTemp = {}\n",
    "\n",
    "    for daKey, daVal in zip(d1, d2.values()):\n",
    "        dicTemp[daVal] = daKey\n",
    "\n",
    "    return dicTemp"
   ]
  },
  {
   "cell_type": "code",
   "execution_count": 14,
   "id": "0e4c06ad-85ab-46a5-aaf5-019ceb712102",
   "metadata": {},
   "outputs": [
    {
     "data": {
      "text/plain": [
       "{4: 'a', 5: 'b', 6: 'c'}"
      ]
     },
     "execution_count": 14,
     "metadata": {},
     "output_type": "execute_result"
    }
   ],
   "source": [
    "trocaValores(dic1, dic2)"
   ]
  },
  {
   "cell_type": "code",
   "execution_count": null,
   "id": "ae935d04-bef5-4cb9-ac3d-a0d8baaa43e7",
   "metadata": {},
   "outputs": [],
   "source": []
  }
 ],
 "metadata": {
  "kernelspec": {
   "display_name": "Python 3 (ipykernel)",
   "language": "python",
   "name": "python3"
  },
  "language_info": {
   "codemirror_mode": {
    "name": "ipython",
    "version": 3
   },
   "file_extension": ".py",
   "mimetype": "text/x-python",
   "name": "python",
   "nbconvert_exporter": "python",
   "pygments_lexer": "ipython3",
   "version": "3.12.7"
  }
 },
 "nbformat": 4,
 "nbformat_minor": 5
}
