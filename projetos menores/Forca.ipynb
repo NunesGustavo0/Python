{
 "cells": [
  {
   "cell_type": "markdown",
   "id": "9a466442-2111-4f29-b8e5-1e98c1688634",
   "metadata": {},
   "source": [
    "# Imports"
   ]
  },
  {
   "cell_type": "code",
   "execution_count": 28,
   "id": "efb083e4-f2e9-4f08-a5b9-e5e4c0b70481",
   "metadata": {},
   "outputs": [],
   "source": [
    "import random\n",
    "from IPython.display import clear_output\n",
    "import time"
   ]
  },
  {
   "cell_type": "markdown",
   "id": "8f6a4701-6897-491f-bcbb-ad294a0631c3",
   "metadata": {},
   "source": [
    "# Predefinições essenciais"
   ]
  },
  {
   "cell_type": "code",
   "execution_count": 40,
   "id": "fa8501d0-4df5-49a6-8c5f-01d1e16572ca",
   "metadata": {},
   "outputs": [],
   "source": [
    "fruits = (\n",
    "    \"Abacaxi\", \"Acerola\", \"Amora\", \"Abacate\", \"Banana\", \"Cabeludinha\", \n",
    "    \"Caqui\", \"Carambola\", \"Cabeludinha\", \"Coco\", \"Figo\", \"Framboesa\", \n",
    "    \"Goiaba\", \"Graviola\", \"Jabuticaba\", \"Laranja\", \"Lima\", \"Limão\", \n",
    "    \"Mamão\", \"Manga\", \"Maracujá\", \"Melancia\", \"Melão\", \"Morango\", \n",
    "    \"Nectarina\", \"Pera\", \"Pêssego\", \"Cabeludinha\", \"Pitangas\", \"Romã\", \n",
    "    \"Seriguela\", \"Tangerina\", \"Uva\", \"Abiu\", \"Açaí\", \"Ameixa\", \"Cabeludinha\", \n",
    "    \"Cabeludinha\", \"Goiaba\", \"Jaca\", \"Jambu\", \"Kiwi\", \"Lichia\", \"Manga\", \n",
    "    \"Maranhão\", \"Murici\", \"Papaya\", \"Maracuja\", \"Quitanda\", \"Fruta do conde\", \n",
    "    \"Atum\", \"Acerola\"\n",
    ") "
   ]
  },
  {
   "cell_type": "code",
   "execution_count": 41,
   "id": "4e07c2d1-4af7-4c54-8450-0572b5553d0f",
   "metadata": {},
   "outputs": [],
   "source": [
    "forca = ['          --------',\n",
    "        '          |      |',\n",
    "        '          |      ',\n",
    "        '          |     ',\n",
    "        '          |      ',\n",
    "        '          |      ',\n",
    "        '          -       ']"
   ]
  },
  {
   "cell_type": "code",
   "execution_count": 42,
   "id": "55aae0d9-c2ae-46d8-8d51-7f9a6377332e",
   "metadata": {},
   "outputs": [],
   "source": [
    "fruta = random.choice(fruits)"
   ]
  },
  {
   "cell_type": "code",
   "execution_count": 43,
   "id": "2dd7c47c-05bb-4d61-8dde-ba9311debaa9",
   "metadata": {},
   "outputs": [],
   "source": [
    "palavra = []\n",
    "for indice in range(len(fruta)):\n",
    "    if fruta[indice] == ' ':\n",
    "        palavra.append(' ')\n",
    "    else:\n",
    "        palavra.append('_')"
   ]
  },
  {
   "cell_type": "markdown",
   "id": "9daee62d-aa4a-4af1-b2a2-e07f56b6d37e",
   "metadata": {},
   "source": [
    "# Funcões do programa"
   ]
  },
  {
   "cell_type": "code",
   "execution_count": 44,
   "id": "423d0594-6bb1-4a7b-bd3e-946fa61f4538",
   "metadata": {},
   "outputs": [],
   "source": [
    "def limparTela():\n",
    "    time.sleep(1)\n",
    "    clear_output(wait=True)"
   ]
  },
  {
   "cell_type": "code",
   "execution_count": 45,
   "id": "03de92b7-c062-493b-9a55-b301ce168362",
   "metadata": {},
   "outputs": [],
   "source": [
    "def adicionarForca(contador):\n",
    "    if contador == 0:\n",
    "        forca[2] += 'o'\n",
    "    elif contador == 1:\n",
    "        forca[3] += '/'        \n",
    "    elif contador == 2:\n",
    "        forca[3] += '|'\n",
    "    elif contador == 3:\n",
    "        forca[3] += '\\\\'\n",
    "    elif contador == 4:\n",
    "        forca[4] += '|'\n",
    "    elif contador == 5:        \n",
    "        forca[5] += '/'\n",
    "    elif contador == 6:\n",
    "        forca[5] += '\\\\'"
   ]
  },
  {
   "cell_type": "code",
   "execution_count": 46,
   "id": "035684ec-cd51-478c-90f4-ee798c2d9fe8",
   "metadata": {},
   "outputs": [],
   "source": [
    "def mostrarForca():\n",
    "    for i in forca:\n",
    "        print(i)"
   ]
  },
  {
   "cell_type": "code",
   "execution_count": 47,
   "id": "e3e7b153-4145-4755-bec6-f99d1e49c1b4",
   "metadata": {},
   "outputs": [],
   "source": [
    "def verificaIgualdade(letra):\n",
    "    contador = 0\n",
    "    for i in range(len(fruta)):\n",
    "        if letra == palavra[i]:\n",
    "            print('Letra ', letra, ' já foi inserida')\n",
    "            return True\n",
    "        elif letra.lower() == fruta[i].lower():\n",
    "            palavra[i] = letra\n",
    "            contador = 1\n",
    "\n",
    "    if contador == 1:\n",
    "        print('Você acertou a letra')\n",
    "    elif contador == 0:\n",
    "        return False"
   ]
  },
  {
   "cell_type": "code",
   "execution_count": 48,
   "id": "fdfb56d1-2d57-41db-9fae-d63aae41e6a8",
   "metadata": {},
   "outputs": [],
   "source": [
    "def verificaVitoria():\n",
    "    completa = \"\".join(palavra)\n",
    "    if completa.lower() == fruta.lower():\n",
    "        return True"
   ]
  },
  {
   "cell_type": "code",
   "execution_count": 49,
   "id": "07ce3afb-c8b6-4855-a592-62a2886e6703",
   "metadata": {},
   "outputs": [],
   "source": [
    "def jogoDaForca():\n",
    "    contador = 0\n",
    "    erros = []\n",
    "    \n",
    "    print('Bem vindo ao jogo da forca!')\n",
    "    print('Adivinhe a palavra abaixo: ')\n",
    "    \n",
    "    while True:\n",
    "        mostrarForca()\n",
    "        print(palavra)\n",
    "    \n",
    "        escolha = input('Escolha uma letra: ')\n",
    "\n",
    "        if verificaIgualdade(escolha) == False:\n",
    "            count = 0\n",
    "            for i in range(len(erros)):\n",
    "                if erros[i] == escolha:\n",
    "                    count = 1\n",
    "            if count == 0:\n",
    "                erros.append(escolha)\n",
    "                adicionarForca(contador)\n",
    "                contador = contador + 1\n",
    "                \n",
    "                print('Ops, essa letra não está na palavra')\n",
    "            \n",
    "                if contador >= 7:\n",
    "                    print('A resposta correta era ', fruta, \"!\")\n",
    "                    print('Você perdeu!')\n",
    "                    return\n",
    "            else:\n",
    "                print('A letra',escolha ,'já foi inserida')\n",
    "\n",
    "        limparTela()\n",
    "\n",
    "        if verificaVitoria() == True:\n",
    "            mostrarForca()\n",
    "            print(palavra)\n",
    "            print('Parabéns!! Você ganhou')\n",
    "            return"
   ]
  },
  {
   "cell_type": "markdown",
   "id": "dd8b9553-51d1-4331-a336-cd89df732936",
   "metadata": {},
   "source": [
    "# Execução do programa"
   ]
  },
  {
   "cell_type": "code",
   "execution_count": 50,
   "id": "ff9f2f31-f42d-426e-9ed6-efaa14af4a0f",
   "metadata": {},
   "outputs": [
    {
     "name": "stdout",
     "output_type": "stream",
     "text": [
      "          --------\n",
      "          |      |\n",
      "          |      o\n",
      "          |     /\n",
      "          |      \n",
      "          |      \n",
      "          -       \n",
      "['j', 'a', 'b', 'u', 't', 'i', 'c', 'a', 'b', 'a']\n",
      "Parabéns!! Você ganhou\n"
     ]
    }
   ],
   "source": [
    "jogoDaForca()"
   ]
  },
  {
   "cell_type": "code",
   "execution_count": null,
   "id": "da910d5f-2f60-4ec0-b903-8641dfaba2e4",
   "metadata": {},
   "outputs": [],
   "source": []
  }
 ],
 "metadata": {
  "kernelspec": {
   "display_name": "Python 3 (ipykernel)",
   "language": "python",
   "name": "python3"
  },
  "language_info": {
   "codemirror_mode": {
    "name": "ipython",
    "version": 3
   },
   "file_extension": ".py",
   "mimetype": "text/x-python",
   "name": "python",
   "nbconvert_exporter": "python",
   "pygments_lexer": "ipython3",
   "version": "3.12.7"
  }
 },
 "nbformat": 4,
 "nbformat_minor": 5
}
