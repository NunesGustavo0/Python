{
 "cells": [
  {
   "cell_type": "markdown",
   "id": "9a466442-2111-4f29-b8e5-1e98c1688634",
   "metadata": {},
   "source": [
    "# Imports"
   ]
  },
  {
   "cell_type": "code",
   "execution_count": 77,
   "id": "efb083e4-f2e9-4f08-a5b9-e5e4c0b70481",
   "metadata": {},
   "outputs": [],
   "source": [
    "import random\n",
    "from IPython.display import clear_output\n",
    "import time"
   ]
  },
  {
   "cell_type": "markdown",
   "id": "8f6a4701-6897-491f-bcbb-ad294a0631c3",
   "metadata": {},
   "source": [
    "# Predefinições essenciais"
   ]
  },
  {
   "cell_type": "code",
   "execution_count": 167,
   "id": "fa8501d0-4df5-49a6-8c5f-01d1e16572ca",
   "metadata": {},
   "outputs": [],
   "source": [
    "fruits = (\n",
    "    \"Apple\", \"Apricot\", \"Banana\", \"Blackberry\", \"Blueberry\", \"Cantaloupe\", \n",
    "    \"Cherry\", \"Clementine\", \"Coconut\", \"Cranberry\", \"Date\", \"Dragonfruit\", \n",
    "    \"Durian\", \"Fig\", \"Grape\", \"Grapefruit\", \"Guava\", \"Honeydew\", \"Jackfruit\", \n",
    "    \"Jambu\", \"Kiwi\", \"Kumquat\", \"Lemon\", \"Lime\", \"Lychee\", \"Mango\", \"Mulberry\", \n",
    "    \"Nectarine\", \"Orange\", \"Papaya\", \"Peach\", \"Pear\", \"Persimmon\", \"Pineapple\", \n",
    "    \"Plum\", \"Pomegranate\", \"Raspberry\", \"Redcurrant\", \"Starfruit\", \"Strawberry\", \n",
    "    \"Tangerine\", \"Watermelon\", \"Acai\", \"Avocado\", \"Blackcurrant\", \"Bilberry\", \n",
    "    \"Carambola\", \"Cherimoya\", \"Chilean guava\", \"Chokeberry\", \"Cloudberry\", \n",
    "    \"Cucamelon\", \"Dewberry\", \"Feijoa\", \"Gooseberry\", \"Granny Smith apple\", \n",
    "    \"Hala fruit\", \"Indian fig\", \"Jujube\", \"Longan\", \"Lulo\", \"Mango steen\", \n",
    "    \"Marula\", \"Nance\", \"Olive\", \"Papaw\", \"Passion fruit\", \"Pequi\", \"Pineberry\", \n",
    "    \"Pluot\", \"Salak\", \"Soursop\", \"Tamarillo\", \"Uva\", \"Yunnan hackberry\", \n",
    "    \"Ziziphus\", \"Pomelo\", \"Atemoya\", \"Limequat\", \"Chayote\", \"Rambutan\", \n",
    "    \"Miracle fruit\", \"Santol\", \"Sweetsop\", \"Mangaba\", \"Pawpaw\", \"Salacca\", \n",
    "    \"Tamarind\", \"Black sapote\", \"Indian gooseberry\", \"Sharon fruit\"\n",
    ")"
   ]
  },
  {
   "cell_type": "code",
   "execution_count": 168,
   "id": "4e07c2d1-4af7-4c54-8450-0572b5553d0f",
   "metadata": {},
   "outputs": [],
   "source": [
    "forca = ['          --------',\n",
    "        '          |      |',\n",
    "        '          |      ',\n",
    "        '          |     ',\n",
    "        '          |      ',\n",
    "        '          |      ',\n",
    "        '          -       ']"
   ]
  },
  {
   "cell_type": "code",
   "execution_count": 169,
   "id": "55aae0d9-c2ae-46d8-8d51-7f9a6377332e",
   "metadata": {},
   "outputs": [],
   "source": [
    "fruta = random.choice(fruits)"
   ]
  },
  {
   "cell_type": "code",
   "execution_count": 170,
   "id": "2dd7c47c-05bb-4d61-8dde-ba9311debaa9",
   "metadata": {},
   "outputs": [],
   "source": [
    "palavra = []\n",
    "for indice in range(len(fruta)):\n",
    "    if fruta[indice] == ' ':\n",
    "        palavra.append(' ')\n",
    "    else:\n",
    "        palavra.append('_')"
   ]
  },
  {
   "cell_type": "code",
   "execution_count": 171,
   "id": "b99b5f21-547c-4ff0-9b37-11e838001d78",
   "metadata": {},
   "outputs": [
    {
     "name": "stdout",
     "output_type": "stream",
     "text": [
      "['_', '_', '_', '_', '_', '_', '_', '_', '_']\n",
      "Tamarillo\n"
     ]
    }
   ],
   "source": [
    "print(palavra)\n",
    "print(fruta)"
   ]
  },
  {
   "cell_type": "markdown",
   "id": "9daee62d-aa4a-4af1-b2a2-e07f56b6d37e",
   "metadata": {},
   "source": [
    "# Funcões do programa"
   ]
  },
  {
   "cell_type": "code",
   "execution_count": 172,
   "id": "423d0594-6bb1-4a7b-bd3e-946fa61f4538",
   "metadata": {},
   "outputs": [],
   "source": [
    "def limparTela():\n",
    "    time.sleep(1)\n",
    "    clear_output(wait=True)"
   ]
  },
  {
   "cell_type": "code",
   "execution_count": 173,
   "id": "03de92b7-c062-493b-9a55-b301ce168362",
   "metadata": {},
   "outputs": [],
   "source": [
    "def adicionarForca(contador):\n",
    "    if contador == 0:\n",
    "        forca[2] += 'o'\n",
    "    elif contador == 1:\n",
    "        forca[3] += '/'        \n",
    "    elif contador == 2:\n",
    "        forca[3] += '|'\n",
    "    elif contador == 3:\n",
    "        forca[3] += '\\\\'\n",
    "    elif contador == 4:\n",
    "        forca[4] += '|'\n",
    "    elif contador == 5:        \n",
    "        forca[5] += '/'\n",
    "    elif contador == 6:\n",
    "        forca[5] += '\\\\'"
   ]
  },
  {
   "cell_type": "code",
   "execution_count": 174,
   "id": "035684ec-cd51-478c-90f4-ee798c2d9fe8",
   "metadata": {},
   "outputs": [],
   "source": [
    "def mostrarForca():\n",
    "    for i in forca:\n",
    "        print(i)"
   ]
  },
  {
   "cell_type": "code",
   "execution_count": 175,
   "id": "e3e7b153-4145-4755-bec6-f99d1e49c1b4",
   "metadata": {},
   "outputs": [],
   "source": [
    "def verificaIgualdade(letra):\n",
    "    contador = 0\n",
    "    for i in range(len(fruta)):\n",
    "        if letra == palavra[i]:\n",
    "            print('Letra ', letra, ' já foi inserida')\n",
    "            return True\n",
    "        elif letra.lower() == fruta[i].lower():\n",
    "            palavra[i] = letra\n",
    "            contador = 1\n",
    "\n",
    "    if contador == 1:\n",
    "        print('Você acertou a letra')\n",
    "    elif contador == 0:\n",
    "        return False"
   ]
  },
  {
   "cell_type": "code",
   "execution_count": 176,
   "id": "fdfb56d1-2d57-41db-9fae-d63aae41e6a8",
   "metadata": {},
   "outputs": [],
   "source": [
    "def verificaVitoria():\n",
    "    completa = \"\".join(palavra)\n",
    "    if completa.lower() == fruta.lower():\n",
    "        return True"
   ]
  },
  {
   "cell_type": "code",
   "execution_count": 177,
   "id": "07ce3afb-c8b6-4855-a592-62a2886e6703",
   "metadata": {},
   "outputs": [],
   "source": [
    "def jogoDaForca():\n",
    "    predefinicoes()\n",
    "    contador = 0\n",
    "    erros = []\n",
    "    \n",
    "    print('Bem vindo ao jogo da forca!')\n",
    "    print('Adivinhe a palavra abaixo: ')\n",
    "    \n",
    "    while True:\n",
    "        mostrarForca()\n",
    "        print(palavra)\n",
    "    \n",
    "        escolha = input('Escolha uma letra: ')\n",
    "\n",
    "        if verificaIgualdade(escolha) == False:\n",
    "            count = 0\n",
    "            for i in range(len(erros)):\n",
    "                if erros[i] == escolha:\n",
    "                    count = 1\n",
    "            if count == 0:\n",
    "                erros.append(escolha)\n",
    "                adicionarForca(contador)\n",
    "                contador = contador + 1\n",
    "                \n",
    "                print('Ops, essa letra não está na palavra')\n",
    "            \n",
    "                if contador >= 7:\n",
    "                    print('A resposta correta era ', fruta, \"!\")\n",
    "                    print('Você perdeu!')\n",
    "                    return\n",
    "            else:\n",
    "                print('A letra',escolha ,'já foi inserida')\n",
    "\n",
    "        limparTela()\n",
    "\n",
    "        if verificaVitoria() == True:\n",
    "            mostrarForca()\n",
    "            print(palavra)\n",
    "            print('Parabéns!! Você ganhou')\n",
    "            return"
   ]
  },
  {
   "cell_type": "markdown",
   "id": "dd8b9553-51d1-4331-a336-cd89df732936",
   "metadata": {},
   "source": [
    "# Execução do programa"
   ]
  },
  {
   "cell_type": "code",
   "execution_count": 178,
   "id": "ff9f2f31-f42d-426e-9ed6-efaa14af4a0f",
   "metadata": {},
   "outputs": [
    {
     "name": "stdout",
     "output_type": "stream",
     "text": [
      "          --------\n",
      "          |      |\n",
      "          |      o\n",
      "          |     /|\\\n",
      "          |      \n",
      "          |      \n",
      "          -       \n",
      "['t', 'a', 'm', 'a', 'r', 'i', 'l', 'l', 'o']\n",
      "Parabéns!! Você ganhou\n"
     ]
    }
   ],
   "source": [
    "jogoDaForca()"
   ]
  },
  {
   "cell_type": "code",
   "execution_count": null,
   "id": "da910d5f-2f60-4ec0-b903-8641dfaba2e4",
   "metadata": {},
   "outputs": [],
   "source": []
  }
 ],
 "metadata": {
  "kernelspec": {
   "display_name": "Python 3 (ipykernel)",
   "language": "python",
   "name": "python3"
  },
  "language_info": {
   "codemirror_mode": {
    "name": "ipython",
    "version": 3
   },
   "file_extension": ".py",
   "mimetype": "text/x-python",
   "name": "python",
   "nbconvert_exporter": "python",
   "pygments_lexer": "ipython3",
   "version": "3.12.7"
  }
 },
 "nbformat": 4,
 "nbformat_minor": 5
}
